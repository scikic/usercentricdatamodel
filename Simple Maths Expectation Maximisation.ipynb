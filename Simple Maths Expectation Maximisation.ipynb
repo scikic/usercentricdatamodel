{
 "cells": [
  {
   "cell_type": "markdown",
   "metadata": {},
   "source": [
    "# Simple Gaussian Mixture model\n",
    "\n",
    "I put this together to illustrate to myself EM."
   ]
  },
  {
   "cell_type": "markdown",
   "metadata": {},
   "source": [
    "We have a simple model:\n",
    "\n",
    "- some data (unimodal): x\n",
    "- some latent variables (unimodal): z (which mean each data point is associated with)\n",
    "- two parameters: the means of the k centres (m) and the mixing parameters (mix)\n",
    "\n",
    "Note I've left out the variance as a parameter, and fixed it at one, just for simplicity."
   ]
  },
  {
   "cell_type": "code",
   "execution_count": 24,
   "metadata": {
    "collapsed": false
   },
   "outputs": [],
   "source": [
    "import numpy as np\n",
    "\n",
    "N = 10 #number of points\n",
    "K = 2  #number of gaussians\n",
    "\n",
    "x = np.hstack([np.random.randn(N/2)*1+2,np.random.randn(N/2)*1+8])\n",
    "mu = np.random.randn(K)\n",
    "mix = np.ones(K) / K*1.0\n",
    "resp = np.zeros([N,K])"
   ]
  },
  {
   "cell_type": "code",
   "execution_count": 25,
   "metadata": {
    "collapsed": false
   },
   "outputs": [
    {
     "data": {
      "image/png": "[encoded data removed]",
      "text/plain": [
       "<matplotlib.figure.Figure at 0x7f6aa5dbcf10>"
      ]
     },
     "metadata": {},
     "output_type": "display_data"
    },
    {
     "data": {
      "image/png": "[encoded data removed]",
      "text/plain": [
       "<matplotlib.figure.Figure at 0x7f6aa5faf690>"
      ]
     },
     "metadata": {},
     "output_type": "display_data"
    },
    {
     "data": {
      "image/png": "[encoded data removed]",
      "text/plain": [
       "<matplotlib.figure.Figure at 0x7f6aa62c4350>"
      ]
     },
     "metadata": {},
     "output_type": "display_data"
    },
    {
     "data": {
      "image/png": "[encoded data removed]",
      "text/plain": [
       "<matplotlib.figure.Figure at 0x7f6aa622ecd0>"
      ]
     },
     "metadata": {},
     "output_type": "display_data"
    },
    {
     "data": {
      "image/png": "[encoded data removed]",
      "text/plain": [
       "<matplotlib.figure.Figure at 0x7f6aa6064990>"
      ]
     },
     "metadata": {},
     "output_type": "display_data"
    }
   ],
   "source": [
    "import matplotlib.pyplot as plt\n",
    "from scipy import stats\n",
    "\n",
    "%matplotlib inline\n",
    "\n",
    "def eval_prob(x_v,mix_v,mu_v):\n",
    "    p = mix_v * stats.norm.pdf(x_v,loc=mu_v,scale=1)\n",
    "    return p\n",
    "\n",
    "for it in range(5):\n",
    "    #evaluate the responsibilities\n",
    "    for n in range(N):\n",
    "        for k in range(K):\n",
    "            norm = 0\n",
    "            for j in range(K):\n",
    "                norm += eval_prob(x[n],mix[j],mu[j])\n",
    "            resp[n,k] = eval_prob(x[n],mix[k],mu[k])/norm\n",
    "\n",
    "    #maximise the closed form of the parameters...\n",
    "    \n",
    "        #mu_k = sum(resp * x)/sum(resp)\n",
    "\n",
    "    for k in range(K):\n",
    "        tot = 0\n",
    "        tot_x = 0\n",
    "        for n in range(N):\n",
    "            tot_x += resp[n,k] * x[n]\n",
    "            tot += resp[n,k]\n",
    "        mu[k] = tot_x / tot #update mu\n",
    "\n",
    "    \n",
    "    plt.figure(figsize=(8, 1))\n",
    "    plt.vlines(x,0,1)\n",
    "    plt.vlines(mu,2,3)\n",
    "    plt.ylim([0,3])\n",
    "    "
   ]
  },
  {
   "cell_type": "code",
   "execution_count": 26,
   "metadata": {
    "collapsed": false
   },
   "outputs": [
    {
     "data": {
      "text/plain": [
       "array([[ 0.,  1.],\n",
       "       [ 0.,  1.],\n",
       "       [ 0.,  1.],\n",
       "       [ 0.,  1.],\n",
       "       [ 0.,  1.],\n",
       "       [ 1.,  0.],\n",
       "       [ 1.,  0.],\n",
       "       [ 1.,  0.],\n",
       "       [ 1.,  0.],\n",
       "       [ 1.,  0.]])"
      ]
     },
     "execution_count": 26,
     "metadata": {},
     "output_type": "execute_result"
    }
   ],
   "source": [
    "np.set_printoptions(precision=4)\n",
    "np.set_printoptions(suppress=True)\n",
    "resp"
   ]
  },
  {
   "cell_type": "markdown",
   "metadata": {},
   "source": [
    "## Expectation Maximisation for PCA\n",
    "\n",
    "We have a prior over the latent variables $p(z) = N(z|0,I)$\n",
    "\n",
    "We have a conditional distribution over the outputs $p(x|z) = N(x|Wz + \\mu, \\sigma^2 I)$\n",
    "\n",
    "For the Expectation step...\n",
    "\n",
    "1. We write $p(x,z) = p(x|z) p(z)$\n",
    "2. $ln p(X,Z|\\mu, W, \\sigma^2) = \\sum_n \\left( ln p(x_n | z_n) p(z_n) \\right)$ (we can do this summation because we assume each point is IID.\n",
    "3. We want to know $E[ln p(X,Z | \\mu, W, \\sigma^2)] = E[\\sum_n \\left( ln p(x|z) + ln p(z) \\right)]$\n",
    "4. We expand out these distributions and apply the log to them, to get a long expression, importantly the values that are missing that we need are $E[z_n]$ and $E[z_n z_n^\\top]$. We can find these from earlier work on PCA.\n",
    "\n",
    "using $M = W^\\top W + \\sigma I$\n",
    "\n",
    "we have this expression for $p(z|x)$:\n",
    "\n",
    "$p(z|x) = N(z|M^{-1} W^\\top (x-\\mu), \\sigma^2 M^{-1})$\n",
    "\n",
    "This allows us to find the values for $E[z_n]$ and $E[z_n z_n^\\top]$:\n",
    "\n",
    "$E[z_n] = M^{-1} W^\\top (x-\\mu)$\n",
    "$E[z_n z_n^\\top] = \\sigma^2 M^{-1}) + E[z_n]E[z_n]^\\top$ (see identity proof at bottom of document)\n",
    "\n",
    "For the Maximisation step...\n",
    "\n",
    "We differentiated the epxression for $E[ln p(X,Z|\\mu, W, \\sigma^2)]$:\n",
    "\n",
    "$W_{new} = \\Big[\\sum_n (x_n - \\bar{x}) E[z_n]^\\top\\Big] \\Big[\\sum_n E[z_n z_n^\\top] \\Big]^{-1}$\n",
    "\n",
    "$\\sigma^2_{new} = ...$"
   ]
  },
  {
   "cell_type": "code",
   "execution_count": 27,
   "metadata": {
    "collapsed": false
   },
   "outputs": [
    {
     "name": "stdout",
     "output_type": "stream",
     "text": [
      "(2, 200)\n",
      "(2, 200)\n"
     ]
    }
   ],
   "source": [
    "np.set_printoptions(precision=6)\n",
    "np.set_printoptions(suppress=True)\n",
    "\n",
    "\n",
    "import numpy as np\n",
    "Dn = 2\n",
    "Mn = 2\n",
    "N = 200\n",
    "sigsqr = 1.0\n",
    "#W = np.vstack([np.eye(Mn),np.zeros([Dn-Mn,Mn])]) #DxM\n",
    "W = np.random.randn(Dn,Mn) * .001\n",
    "\n",
    "x = np.random.randn(Dn,N)\n",
    "x[1,:] += x[0,:]*1.5 #some covariance\n",
    "x[0,:] = x[0,:] * 5.0\n",
    "x[1,:] = x[1,:] * 2.0\n",
    "\n",
    "x = x + np.random.randn(Dn,N) * .1\n",
    "\n",
    "#x = np.random.multivariate_normal(np.zeros())\n",
    "zeromean_x = (x.T - np.mean(x,1)).T #TODO Check subtraction is in the right direction.\n",
    "\n",
    "print zeromean_x.shape\n",
    "print x.shape #DxN"
   ]
  },
  {
   "cell_type": "code",
   "execution_count": 28,
   "metadata": {
    "collapsed": false
   },
   "outputs": [
    {
     "data": {
      "text/plain": [
       "(-15, 15)"
      ]
     },
     "execution_count": 28,
     "metadata": {},
     "output_type": "execute_result"
    },
    {
     "data": {
      "image/png": "[encoded data removed]",
      "text/plain": [
       "<matplotlib.figure.Figure at 0x7f6aa5f32ed0>"
      ]
     },
     "metadata": {},
     "output_type": "display_data"
    }
   ],
   "source": [
    "plt.plot(x[0,:],x[1,:],'x')\n",
    "plt.xlim([-15,15])\n",
    "plt.ylim([-15,15])"
   ]
  },
  {
   "cell_type": "code",
   "execution_count": 29,
   "metadata": {
    "collapsed": false
   },
   "outputs": [
    {
     "name": "stdout",
     "output_type": "stream",
     "text": [
      "[[ 4.625835 -0.328561]\n",
      " [ 2.968822 -0.210868]]\n"
     ]
    }
   ],
   "source": [
    "\n",
    "\n",
    "Ezz = []\n",
    "Ez = []\n",
    "new_Ezz = []\n",
    "new_Ez = []\n",
    "for n in range(N):\n",
    "    Ezz.append(np.zeros([Mn,Mn]))\n",
    "    Ez.append(np.zeros(Mn)[:,None])\n",
    "    new_Ezz.append(np.zeros([Mn,Mn]))\n",
    "    new_Ez.append(np.zeros(Mn))\n",
    "\n",
    "sig_store = []\n",
    "for it in range(100):\n",
    "    #Expectation, find values of components...\n",
    "    M = np.dot(W.T,W) + sigsqr * np.eye(Mn)\n",
    "    invM = np.linalg.inv(M) #TODO Solve using linalg.solve (MORE STABLE)\n",
    "    old_Ez = Ez[:] #Use Cholesky decomp to do this inversion in a more stable way.\n",
    "\n",
    "    for n in range(N): #TODO: Vectorise\n",
    "        new_Ez[n] = np.dot(np.dot(invM,W.T),zeromean_x[:,n])[:,None] #MxD . Dx1 = Mx1\n",
    "        new_Ezz[n] = sigsqr * invM + np.dot(new_Ez[n],new_Ez[n].T)\n",
    "    #Maximisation \n",
    "    #Next We've differentiated E[ln p(X,Z|parameters)] and,\n",
    "    #setting equal to zero, we can find what the parameters equal to maximise this\n",
    "    Ez = new_Ez[:]\n",
    "    Ezz = new_Ezz[:]\n",
    "    \n",
    "    partA = np.zeros([Dn,Mn])\n",
    "    for n in range(N):\n",
    "        partA += np.dot(zeromean_x[:,n][:,None],Ez[n].T)\n",
    "        \n",
    "    partB = np.zeros([Mn,Mn])\n",
    "    for n in range(N):\n",
    "        partB += Ezz[n]\n",
    "    new_W = np.dot(partA, np.linalg.inv(partB)) #TODO Replace inverse\n",
    "    temp = 0\n",
    "    for n in range(N):\n",
    "        #np.linalg.norm() replace below\n",
    "        temp += np.dot(zeromean_x[:,n],zeromean_x[:,n]) - 2.0*np.dot(np.dot(Ez[n].T, new_W.T),zeromean_x[:,n])\n",
    "        temp += np.trace(np.dot(Ezz[n],np.dot(new_W.T,new_W)))\n",
    "    new_sigsqr = (1.0/(N*Dn)) * temp #changed brackets\n",
    "\n",
    "    sig_store.append(new_sigsqr)\n",
    "   \n",
    "    W = new_W.copy()\n",
    "    sigsqr = new_sigsqr\n",
    "\n",
    "print W\n",
    "import matplotlib.pyplot as plt\n",
    "%matplotlib inline"
   ]
  },
  {
   "cell_type": "code",
   "execution_count": 32,
   "metadata": {
    "collapsed": false
   },
   "outputs": [
    {
     "data": {
      "text/plain": [
       "[<matplotlib.lines.Line2D at 0x7f6ad40296d0>]"
      ]
     },
     "execution_count": 32,
     "metadata": {},
     "output_type": "execute_result"
    },
    {
     "data": {
      "image/png": "[encoded data removed]",
      "text/plain": [
       "<matplotlib.figure.Figure at 0x7f6aa6099f50>"
      ]
     },
     "metadata": {},
     "output_type": "display_data"
    }
   ],
   "source": [
    "plt.plot(np.sqrt(sig_store))"
   ]
  },
  {
   "cell_type": "code",
   "execution_count": 33,
   "metadata": {
    "collapsed": false
   },
   "outputs": [
    {
     "data": {
      "text/plain": [
       "array([ 1.702545])"
      ]
     },
     "execution_count": 33,
     "metadata": {},
     "output_type": "execute_result"
    }
   ],
   "source": [
    "np.sqrt(sigsqr)"
   ]
  },
  {
   "cell_type": "code",
   "execution_count": 34,
   "metadata": {
    "collapsed": false
   },
   "outputs": [
    {
     "data": {
      "text/plain": [
       "array([[ 4.625835, -0.328561],\n",
       "       [ 2.968822, -0.210868]])"
      ]
     },
     "execution_count": 34,
     "metadata": {},
     "output_type": "execute_result"
    }
   ],
   "source": [
    "W"
   ]
  },
  {
   "cell_type": "code",
   "execution_count": 35,
   "metadata": {
    "collapsed": false
   },
   "outputs": [
    {
     "name": "stdout",
     "output_type": "stream",
     "text": [
      "[[ 0.841728 -0.539903]\n",
      " [ 0.539903  0.841728]]\n"
     ]
    }
   ],
   "source": [
    "a,b = np.linalg.eig(np.dot(x,x.T))\n",
    "print b\n"
   ]
  },
  {
   "cell_type": "code",
   "execution_count": 36,
   "metadata": {
    "collapsed": false
   },
   "outputs": [
    {
     "data": {
      "text/plain": [
       "[<matplotlib.lines.Line2D at 0x7f6aa630cb90>]"
      ]
     },
     "execution_count": 36,
     "metadata": {},
     "output_type": "execute_result"
    },
    {
     "data": {
      "image/png": "[encoded data removed]",
      "text/plain": [
       "<matplotlib.figure.Figure at 0x7f6add98eed0>"
      ]
     },
     "metadata": {},
     "output_type": "display_data"
    }
   ],
   "source": [
    "zs = np.random.multivariate_normal(np.zeros(Dn),np.eye(Dn),100)\n",
    "xpred = np.dot(W,zs.T) + np.random.multivariate_normal(np.zeros(Dn),np.eye(Dn)*sigsqr,100).T\n",
    "plt.plot(xpred[0,:],xpred[1,:],'x')\n",
    "plt.xlim([-10,10])\n",
    "plt.ylim([-10,10])\n",
    "plt.plot(x[0,:],x[1,:],'+r')"
   ]
  },
  {
   "cell_type": "code",
   "execution_count": 132,
   "metadata": {
    "collapsed": false
   },
   "outputs": [
    {
     "data": {
      "text/plain": [
       "(100, 2)"
      ]
     },
     "execution_count": 132,
     "metadata": {},
     "output_type": "execute_result"
    }
   ],
   "source": [
    "zs.shape"
   ]
  },
  {
   "cell_type": "code",
   "execution_count": 95,
   "metadata": {
    "collapsed": false
   },
   "outputs": [
    {
     "name": "stdout",
     "output_type": "stream",
     "text": [
      "19533.0550174\n",
      "19533.0550174\n"
     ]
    }
   ],
   "source": [
    "print np.dot(zeromean_x[0],zeromean_x[0])\n",
    "print np.sum(zeromean_x[0]**2)"
   ]
  },
  {
   "cell_type": "code",
   "execution_count": 39,
   "metadata": {
    "collapsed": false
   },
   "outputs": [
    {
     "data": {
      "text/plain": [
       "array([ 0.064757, -0.560323,  0.656101,  0.943377,  0.616119])"
      ]
     },
     "execution_count": 39,
     "metadata": {},
     "output_type": "execute_result"
    }
   ],
   "source": [
    "x[:,n]"
   ]
  },
  {
   "cell_type": "code",
   "execution_count": 40,
   "metadata": {
    "collapsed": false
   },
   "outputs": [
    {
     "name": "stdout",
     "output_type": "stream",
     "text": [
      "[[-0.437257 -0.576872  0.446972  0.059578 -0.522198]\n",
      " [ 0.150452 -0.042414  0.43136  -0.867743  0.191092]\n",
      " [ 0.024424 -0.75346  -0.246581  0.05211   0.606782]\n",
      " [-0.017102 -0.173505 -0.730575 -0.461602 -0.472004]\n",
      " [-0.886161  0.260026 -0.140009 -0.166378  0.315945]]\n",
      "[[ 0.539039  0.290173 -0.226545 -0.182221]\n",
      " [ 0.816748  0.354294 -0.064329 -0.07789 ]\n",
      " [-0.58053  -0.322487  0.195449 -0.32974 ]\n",
      " [ 0.012254 -0.045915  0.144265  0.756162]\n",
      " [ 0.588898  0.355201 -0.419885 -0.194912]]\n",
      "[[ 0.420713  0.637461 -0.453096  0.009564  0.459627]\n",
      " [ 0.436462  0.53291  -0.485067 -0.069064  0.534273]\n",
      " [-0.42012  -0.119297  0.362455  0.267534 -0.778665]\n",
      " [-0.209329 -0.089478 -0.378793  0.868652 -0.223908]]\n"
     ]
    }
   ],
   "source": [
    "cov = np.dot(zeromean_x,zeromean_x.T)\n",
    "#cov = np.array([[2,1],[1,2]])\n",
    "u,v,w = np.linalg.svd(cov)\n",
    "print w\n",
    "print W\n",
    "normed_W = W / np.sqrt(np.sum(W**2,0))\n",
    "print normed_W.T"
   ]
  },
  {
   "cell_type": "code",
   "execution_count": 41,
   "metadata": {
    "collapsed": false
   },
   "outputs": [
    {
     "name": "stdout",
     "output_type": "stream",
     "text": [
      "[ 0.065746]\n",
      "[[ 1.641607  0.841611 -0.533623 -0.075934]\n",
      " [ 0.841611  0.441998 -0.307326 -0.078087]\n",
      " [-0.533623 -0.307326  0.290777  0.172772]\n",
      " [-0.075934 -0.078087  0.172772  0.757772]]\n",
      "[-0.486457 -0.122341 -0.234444 -1.806129]\n",
      "[[-0.476719]\n",
      " [-0.129937]\n",
      " [-0.228676]\n",
      " [-1.754779]]\n",
      "[[-0.481226]\n",
      " [-0.127445]\n",
      " [-0.232339]\n",
      " [-1.782224]]\n",
      "[-0.486457 -0.122341 -0.234444 -1.806129]\n"
     ]
    }
   ],
   "source": [
    "#print M\n",
    "#print np.linalg.inv(M)\n",
    "#print W\n",
    "#print zeromean_x[:,0]\n",
    "print sigsqr\n",
    "print np.dot(W.T,W)\n",
    "M = np.dot(W.T,W) + sigsqr * np.eye(Mn)\n",
    "invM = np.linalg.inv(M)\n",
    "\n",
    "print np.dot(np.dot(np.linalg.inv(M),W.T),zeromean_x[:,0])\n",
    "print old_Ez[0]\n",
    "print Ez[0]\n",
    "print np.dot(np.dot(invM,W.T),zeromean_x[:,0])"
   ]
  },
  {
   "cell_type": "code",
   "execution_count": 42,
   "metadata": {
    "collapsed": false
   },
   "outputs": [
    {
     "name": "stdout",
     "output_type": "stream",
     "text": [
      "[[-1.522377  0.928943 -0.905226]\n",
      " [-2.359487 -1.550749  0.16733 ]\n",
      " [-1.416288  1.584967  0.694267]]\n",
      "[[ 4.  2.  3.]\n",
      " [ 2.  8.  1.]\n",
      " [ 3.  1.  5.]]\n"
     ]
    }
   ],
   "source": [
    "def sqrtm(m):\n",
    "    u,l,v = np.linalg.svd(m)\n",
    "    for x in range(m.shape[0]):\n",
    "        for y in range(m.shape[1]):\n",
    "            if np.abs(m[x,y]-m[y,x])>0.001:\n",
    "                print m\n",
    "                raise Exception(\"Not diagonal\")\n",
    "    return np.dot(u,np.diag(np.sqrt(l)))\n",
    "    #return np.dot(np.dot(u,np.diag(np.sqrt(l))),np.linalg.inv(v))\n",
    "    \n",
    "a = np.array([[4,2,3],[2,8,1],[3,1,5]])\n",
    "b = sqrtm(a)\n",
    "print b\n",
    "print np.dot(b,b.T)"
   ]
  },
  {
   "cell_type": "code",
   "execution_count": 43,
   "metadata": {
    "collapsed": false
   },
   "outputs": [
    {
     "name": "stdout",
     "output_type": "stream",
     "text": [
      "7.26144554909e-15\n"
     ]
    },
    {
     "ename": "ValueError",
     "evalue": "operands could not be broadcast together with shapes (5,5) (4,4) ",
     "output_type": "error",
     "traceback": [
      "\u001b[1;31m---------------------------------------------------------------------------\u001b[0m",
      "\u001b[1;31mValueError\u001b[0m                                Traceback (most recent call last)",
      "\u001b[1;32m<ipython-input-43-3ff51f6069f7>\u001b[0m in \u001b[0;36m<module>\u001b[1;34m()\u001b[0m\n\u001b[0;32m      2\u001b[0m \u001b[0mU\u001b[0m\u001b[1;33m,\u001b[0m\u001b[0ml\u001b[0m\u001b[1;33m,\u001b[0m\u001b[0mw\u001b[0m \u001b[1;33m=\u001b[0m \u001b[0mnp\u001b[0m\u001b[1;33m.\u001b[0m\u001b[0mlinalg\u001b[0m\u001b[1;33m.\u001b[0m\u001b[0msvd\u001b[0m\u001b[1;33m(\u001b[0m\u001b[0mcov\u001b[0m\u001b[1;33m)\u001b[0m\u001b[1;33m\u001b[0m\u001b[0m\n\u001b[0;32m      3\u001b[0m \u001b[0mL\u001b[0m \u001b[1;33m=\u001b[0m \u001b[0mnp\u001b[0m\u001b[1;33m.\u001b[0m\u001b[0mdiag\u001b[0m\u001b[1;33m(\u001b[0m\u001b[0ml\u001b[0m\u001b[1;33m)\u001b[0m\u001b[1;33m\u001b[0m\u001b[0m\n\u001b[1;32m----> 4\u001b[1;33m \u001b[1;32mprint\u001b[0m \u001b[0mnp\u001b[0m\u001b[1;33m.\u001b[0m\u001b[0mdot\u001b[0m\u001b[1;33m(\u001b[0m\u001b[0mU\u001b[0m\u001b[1;33m,\u001b[0m\u001b[0msqrtm\u001b[0m\u001b[1;33m(\u001b[0m\u001b[0mL\u001b[0m\u001b[1;33m-\u001b[0m\u001b[0msigsqr\u001b[0m\u001b[1;33m*\u001b[0m\u001b[0mnp\u001b[0m\u001b[1;33m.\u001b[0m\u001b[0meye\u001b[0m\u001b[1;33m(\u001b[0m\u001b[0mMn\u001b[0m\u001b[1;33m)\u001b[0m\u001b[1;33m)\u001b[0m\u001b[1;33m)\u001b[0m\u001b[1;33m\u001b[0m\u001b[0m\n\u001b[0m\u001b[0;32m      5\u001b[0m \u001b[1;32mprint\u001b[0m \u001b[0mnormed_W\u001b[0m\u001b[1;33m\u001b[0m\u001b[0m\n",
      "\u001b[1;31mValueError\u001b[0m: operands could not be broadcast together with shapes (5,5) (4,4) "
     ]
    }
   ],
   "source": [
    "print np.linalg.det(cov)\n",
    "U,l,w = np.linalg.svd(cov)\n",
    "L = np.diag(l)\n",
    "print np.dot(U,sqrtm(L-sigsqr*np.eye(Mn)))\n",
    "print normed_W"
   ]
  },
  {
   "cell_type": "code",
   "execution_count": 12,
   "metadata": {
    "collapsed": false
   },
   "outputs": [
    {
     "data": {
      "text/plain": [
       "array([[-0.      ],\n",
       "       [-0.      ],\n",
       "       [-0.000001],\n",
       "       [ 0.000001]])"
      ]
     },
     "execution_count": 12,
     "metadata": {},
     "output_type": "execute_result"
    }
   ],
   "source": [
    "Ez[0]"
   ]
  },
  {
   "cell_type": "code",
   "execution_count": 13,
   "metadata": {
    "collapsed": false
   },
   "outputs": [
    {
     "data": {
      "text/plain": [
       "array([[ 1., -0., -0.,  0.],\n",
       "       [-0.,  1., -0.,  0.],\n",
       "       [-0., -0.,  1.,  0.],\n",
       "       [ 0.,  0.,  0.,  1.]])"
      ]
     },
     "execution_count": 13,
     "metadata": {},
     "output_type": "execute_result"
    }
   ],
   "source": [
    "Ezz[0]"
   ]
  },
  {
   "cell_type": "markdown",
   "metadata": {},
   "source": [
    "### Identity $E[(a+\\mu)(a+\\mu)^\\top] = cov(a) + \\mu \\mu^\\top$\n",
    "\n",
    "The final term above comes from this identity:\n",
    "\n",
    "$E[(a+\\mu)(a+\\mu)^\\top] = E[a a^\\top] + E[a \\mu^\\top] + E[\\mu a^\\top] + E[\\mu \\mu^\\top]$ \n",
    "\n",
    "We note that $E[\\mu \\mu^\\top]=\\mu \\mu^\\top$\n",
    "and\n",
    "$E[a \\mu^\\top]= E[a] \\mu ^\\top = 0$. \n",
    "\n",
    "Leaving just: $E[(a+\\mu)(a+\\mu)^\\top] = E[a a^\\top] + \\mu \\mu^\\top = cov(a) + \\mu \\mu^\\top$\n",
    "\n"
   ]
  },
  {
   "cell_type": "code",
   "execution_count": 44,
   "metadata": {
    "collapsed": false
   },
   "outputs": [
    {
     "ename": "ValueError",
     "evalue": "operands could not be broadcast together with shapes (5,4) (5,) ",
     "output_type": "error",
     "traceback": [
      "\u001b[1;31m---------------------------------------------------------------------------\u001b[0m",
      "\u001b[1;31mValueError\u001b[0m                                Traceback (most recent call last)",
      "\u001b[1;32m<ipython-input-44-65f02d561bf3>\u001b[0m in \u001b[0;36m<module>\u001b[1;34m()\u001b[0m\n\u001b[1;32m----> 1\u001b[1;33m \u001b[1;33m(\u001b[0m\u001b[0mW\u001b[0m\u001b[1;33m/\u001b[0m\u001b[0mnp\u001b[0m\u001b[1;33m.\u001b[0m\u001b[0msqrt\u001b[0m\u001b[1;33m(\u001b[0m\u001b[0mnp\u001b[0m\u001b[1;33m.\u001b[0m\u001b[0msum\u001b[0m\u001b[1;33m(\u001b[0m\u001b[0mW\u001b[0m\u001b[1;33m**\u001b[0m\u001b[1;36m2\u001b[0m\u001b[1;33m,\u001b[0m\u001b[1;36m1\u001b[0m\u001b[1;33m)\u001b[0m\u001b[1;33m)\u001b[0m\u001b[1;33m)\u001b[0m\u001b[1;33m.\u001b[0m\u001b[0mT\u001b[0m\u001b[1;33m\u001b[0m\u001b[0m\n\u001b[0m",
      "\u001b[1;31mValueError\u001b[0m: operands could not be broadcast together with shapes (5,4) (5,) "
     ]
    }
   ],
   "source": [
    "(W/np.sqrt(np.sum(W**2,1))).T"
   ]
  },
  {
   "cell_type": "code",
   "execution_count": 45,
   "metadata": {
    "collapsed": false
   },
   "outputs": [
    {
     "data": {
      "text/plain": [
       "array([[ 0.539039,  0.290173, -0.226545, -0.182221],\n",
       "       [ 0.816748,  0.354294, -0.064329, -0.07789 ],\n",
       "       [-0.58053 , -0.322487,  0.195449, -0.32974 ],\n",
       "       [ 0.012254, -0.045915,  0.144265,  0.756162],\n",
       "       [ 0.588898,  0.355201, -0.419885, -0.194912]])"
      ]
     },
     "execution_count": 45,
     "metadata": {},
     "output_type": "execute_result"
    }
   ],
   "source": [
    "W"
   ]
  },
  {
   "cell_type": "code",
   "execution_count": 46,
   "metadata": {
    "collapsed": false
   },
   "outputs": [
    {
     "name": "stderr",
     "output_type": "stream",
     "text": [
      "/home/lionfish/anaconda2/lib/python2.7/site-packages/numpy/core/fromnumeric.py:2641: VisibleDeprecationWarning: `rank` is deprecated; use the `ndim` attribute or function instead. To find the rank of a matrix see `numpy.linalg.matrix_rank`.\n",
      "  VisibleDeprecationWarning)\n"
     ]
    },
    {
     "data": {
      "text/plain": [
       "2"
      ]
     },
     "execution_count": 46,
     "metadata": {},
     "output_type": "execute_result"
    }
   ],
   "source": [
    "np.rank(W)"
   ]
  },
  {
   "cell_type": "code",
   "execution_count": 413,
   "metadata": {
    "collapsed": false
   },
   "outputs": [
    {
     "data": {
      "text/plain": [
       "array([[ 1.991,  0.052,  0.373, -1.241, -1.174],\n",
       "       [-0.75 ,  0.882,  0.016, -0.708,  0.56 ]])"
      ]
     },
     "execution_count": 413,
     "metadata": {},
     "output_type": "execute_result"
    }
   ],
   "source": [
    "zeromean_x"
   ]
  },
  {
   "cell_type": "code",
   "execution_count": 414,
   "metadata": {
    "collapsed": false
   },
   "outputs": [
    {
     "data": {
      "text/plain": [
       "[array([[-0.15 ],\n",
       "        [-0.381]]), array([[ 0.012],\n",
       "        [ 0.027]]), array([[-0.025],\n",
       "        [-0.065]]), array([[ 0.073],\n",
       "        [ 0.189]]), array([[ 0.091],\n",
       "        [ 0.229]])]"
      ]
     },
     "execution_count": 414,
     "metadata": {},
     "output_type": "execute_result"
    }
   ],
   "source": [
    "Ez"
   ]
  },
  {
   "cell_type": "code",
   "execution_count": null,
   "metadata": {
    "collapsed": true
   },
   "outputs": [],
   "source": []
  }
 ],
 "metadata": {
  "kernelspec": {
   "display_name": "Python 2",
   "language": "python",
   "name": "python2"
  },
  "language_info": {
   "codemirror_mode": {
    "name": "ipython",
    "version": 2
   },
   "file_extension": ".py",
   "mimetype": "text/x-python",
   "name": "python",
   "nbconvert_exporter": "python",
   "pygments_lexer": "ipython2",
   "version": "2.7.11"
  }
 },
 "nbformat": 4,
 "nbformat_minor": 0
}
