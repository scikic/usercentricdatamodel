{
 "cells": [
  {
   "cell_type": "markdown",
   "metadata": {},
   "source": [
    "We have a database;\n",
    "\n",
    "```\n",
    "Age/months  Weight\n",
    " 0            8.2\n",
    " 4            6.1\n",
    " 5            7.1\n",
    " 8            8.5\n",
    " 9           10.2\n",
    "12           10.0\n",
    "16           25.9\n",
    "17           26.1\n",
    "18           23.3\n",
    "19           27.5\n",
    "22           26.2\n",
    "24           28.7\n",
    "```\n",
    "\n",
    "To apply differential privacy, we will just release the mean of each block:\n",
    "\n",
    "```\n",
    "Age/months  Weight      Noise    Released Weight   Mean Age\n",
    " 0- 6            7.1     +2.6 =                      3.0\n",
    " 7-12            9.6     -7.2                        9.7\n",
    "13-18           25.1     -6.5                       17.0\n",
    "19-24           27.5     -0.5                       21.7\n",
    "```\n",
    "(noise added, sensitivity: max value = 40kg, divided by the number in each group (3), then ...)\n",
    "\n",
    "**! SEE HISTOGRAM QUERY FOR HINTS ON HOW TO RELEASE THIS !**\n",
    "\n",
    "**! How can knowing the mean of each bin help? ** Notice that these averages are problematic as their centre of mass isn't necessarily in the middle of each set. Anyway, ignoring that for now.\n",
    "\n",
    "Let $x(t) = \\int_0^t f(u) \\; du$\n",
    "\n",
    "Where $f(u)$ is a function describing the weight function (over their age). $x(t)$ is the integral of this, the values of this we are given by the averages times the sizes of each bin."
   ]
  },
  {
   "cell_type": "markdown",
   "metadata": {},
   "source": [
    "The covariance of f(u), $k_{ff}(t,t')$ we assume is an RBF kernel:\n",
    "\n",
    "$$k_{ff} = e^{-{{(u-u')^2} \\over {l^2}}}$$\n",
    "\n",
    "So the covariance of x, will be:\n",
    "\n",
    "$$ k_{xx} = \\int_0^t \\int_0^{t'} k_{ff}(u,u')\\; du' du$$\n",
    "\n",
    "Performing the integration (in mathematica)...\n",
    "\n",
    "$$ k_{xx} = \\int_0^t \\int_0^{t'} e^{-{{(u-u')^2} \\over {l^2}}}\\; du' du$$"
   ]
  },
  {
   "cell_type": "markdown",
   "metadata": {},
   "source": [
    "$$ k_{xx}(t,t') = \\int_0^t \\frac{\\sqrt{\\pi } l}{2} \\left(\\text{erf}\\left(\\frac{t'-u}{l}\\right)+\\text{erf}\\left(\\frac{u}{l}\\right)\\right) \\;du $$\n",
    "\n",
    "$$ k_{xx}(t,t') = \\frac{1}{2} l \\left(\\sqrt{\\pi } \\left((t-t')\\; \\text{erf}\\left(\\frac{t'-t}{l}\\right)+t' \\;\\text{erf}\\left(\\frac{t'}{l}\\right)+t\\; \\text{erf}\\left(\\frac{t}{l}\\right)\\right)+l\\; \\left(e^{-\\frac{t'^2}{l^2}}-e^{-\\frac{(t'-t)^2}{l^2}}+e^{-\\frac{t^2}{l^2}}-1\\right)\\right) $$"
   ]
  },
  {
   "cell_type": "markdown",
   "metadata": {},
   "source": [
    "$$ k_{xx}(t,t') = \\frac{l^2}{2} \\Big[ g \\left(\\frac{t}{l} \\right) + g \\left(\\frac{t'-t}{l} \\right) + g \\left(\\frac{t'}{l} \\right) -1 \\Big]$$\n",
    "\n",
    "where\n",
    "\n",
    "$$g(z) = z\\;\\sqrt{\\pi}\\;\\text{erf}(z)\\;+\\;e^{-z^2}$$"
   ]
  },
  {
   "cell_type": "code",
   "execution_count": null,
   "metadata": {
    "collapsed": true
   },
   "outputs": [],
   "source": []
  }
 ],
 "metadata": {
  "kernelspec": {
   "display_name": "Python 2",
   "language": "python",
   "name": "python2"
  },
  "language_info": {
   "codemirror_mode": {
    "name": "ipython",
    "version": 2
   },
   "file_extension": ".py",
   "mimetype": "text/x-python",
   "name": "python",
   "nbconvert_exporter": "python",
   "pygments_lexer": "ipython2",
   "version": "2.7.11"
  }
 },
 "nbformat": 4,
 "nbformat_minor": 0
}
