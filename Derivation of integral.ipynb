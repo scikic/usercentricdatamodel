{
 "cells": [
  {
   "cell_type": "markdown",
   "metadata": {},
   "source": [
    "We have a database, that we want to do inference on: \n",
    "\n",
    " > 'How heavy is a baby aged 6 months likely to be?'\n",
    "\n",
    "```\n",
    "Age/months  Weight\n",
    " 0            8.2\n",
    " 4            6.1\n",
    " 5            7.1\n",
    " 8            8.5\n",
    " 9           10.2\n",
    "12           10.0\n",
    "16           25.9\n",
    "17           26.1\n",
    "18           23.3\n",
    "19           27.5\n",
    "22           26.2\n",
    "24           28.7\n",
    "```\n",
    "\n",
    "To apply differential privacy, we will just release the mean of each block:\n",
    "\n",
    "```\n",
    "Age/months  Weight      Noise    Released Weight   Mean Age\n",
    " 0- 6            7.1     +2.6          9.7           3.0\n",
    " 7-12            9.6     -7.2          2.4           9.7\n",
    "13-18           25.1     -6.5         18.6          17.0\n",
    "19-24           27.5     -0.5         27.0          21.7\n",
    "```\n",
    "\n",
    "> ### Notes to self\n",
    "> - See histogram mechanism for how to improve sensitivity.\n",
    "> - How can we incorporate the mean of each bin help?: Notice that these averages are problematic as their centre of mass isn't necessarily in the middle of each set. Anyway, ignoring that for now.\n",
    "\n",
    "Let $x(t) = \\int_0^t f(u) \\; du$\n",
    "\n",
    "Where $f(u)$ is a function describing the weight function (over their age, t). $x(t)$ is the integral of this, the values of this we are given by the averages times the sizes of each bin. For example we can say that the integral between 0 and 6 is $9.7 \\times 6 = 58.2 \\text{kg months}$.\n",
    "\n",
    "So we want to find the mean and covariance of $f$ given these values of $\\mathbf{x}$.\n",
    "\n",
    "> ### Mistake!\n",
    "> I've used the above expression for x in this document, however, I realise there's a constant missing!:\n",
    ">\n",
    "> First, let:\n",
    ">\n",
    "> $\\frac{dx}{dt} = f(t)$\n",
    ">\n",
    "> Integrating;\n",
    ">\n",
    "> $\\int 1 \\;dx = \\int_0^t f(t)\\; du$\n",
    ">\n",
    "> $x(t) + C = \\int_0^t f(u)\\; du$\n",
    ">\n",
    "> Notice that I've assumed $C$ is zero below!\n",
    ">\n",
    "> So how can we make it so $C$ is zero? Let's consider time zero:\n",
    ">\n",
    "> $x(0) + C = \\int_0^0 f(u)\\; du$\n",
    ">\n",
    "> So this leaves: $x(0) = -C$\n",
    ">\n",
    "> So $C$ will be zero if $x$ is zero at time zero.\n",
    ">\n",
    "> In the numerical example below, I've set the example so the gradient would be expected to be about zero at t=0. So forgetting C doesn't matter in the example. However, as we don't know the gradient at the origin in general, I'll have a look at re-deriving the equations."
   ]
  },
  {
   "cell_type": "markdown",
   "metadata": {},
   "source": [
    "The covariance of f(u), $k_{ff}(t,t')$ we assume is an RBF kernel:\n",
    "\n",
    "$$k_{ff} = e^{-{{(u-u')^2} \\over {l^2}}}$$\n",
    "\n",
    "So the covariance of x, will be:\n",
    "\n",
    "$$ k_{xx} = \\int_0^t \\int_0^{t'} k_{ff}(u,u')\\; du' du$$\n",
    "\n",
    "Performing the integration (in mathematica)...\n",
    "\n",
    "$$ k_{xx} = \\int_0^t \\int_0^{t'} e^{-{{(u-u')^2} \\over {l^2}}}\\; du' du$$"
   ]
  },
  {
   "cell_type": "markdown",
   "metadata": {},
   "source": [
    "$$ k_{xx}(t,t') = \\int_0^t \\frac{\\sqrt{\\pi } l}{2} \\left(\\text{erf}\\left(\\frac{t'-u}{l}\\right)+\\text{erf}\\left(\\frac{u}{l}\\right)\\right) \\;du $$\n",
    "\n",
    "$$ k_{xx}(t,t') = \\frac{1}{2} l \\left(\\sqrt{\\pi } \\left((t-t')\\; \\text{erf}\\left(\\frac{t'-t}{l}\\right)+t' \\;\\text{erf}\\left(\\frac{t'}{l}\\right)+t\\; \\text{erf}\\left(\\frac{t}{l}\\right)\\right)+l\\; \\left(e^{-\\frac{t'^2}{l^2}}-e^{-\\frac{(t-t')^2}{l^2}}+e^{-\\frac{t^2}{l^2}}-1\\right)\\right) $$"
   ]
  },
  {
   "cell_type": "markdown",
   "metadata": {},
   "source": [
    "$$ k_{xx}(t,t') = \\frac{l^2}{2} \\Big[ g \\left(\\frac{t}{l} \\right) - g \\left(\\frac{t-t'}{l} \\right) + g \\left(\\frac{t'}{l} \\right) -1 \\Big]$$\n",
    "\n",
    "where\n",
    "\n",
    "$$g(z) = z\\;\\sqrt{\\pi}\\;\\text{erf}(z)\\;+\\;e^{-z^2}$$"
   ]
  },
  {
   "cell_type": "markdown",
   "metadata": {
    "collapsed": true
   },
   "source": [
    "We also need to know the cross covariance (between x and f):\n",
    "\n",
    "$$ k_{xf}(t,t') = \\frac{\\sqrt{\\pi } l}{2} \\left(\\text{erf}\\left(\\frac{t-t'}{l}\\right)+\\text{erf}\\left(\\frac{t'}{l}\\right)\\right) $$"
   ]
  },
  {
   "cell_type": "markdown",
   "metadata": {},
   "source": [
    "Using standard Gaussian process regression, we have the mean and covariance function of the posterior process on $f$ as:\n",
    "\n",
    "$$\\langle f \\rangle_{post} = K_{fx} K_{xx}^{-1} x$$\n",
    "\n",
    "$$K_{ff}^{post} = K_{ff} - K_{fx} K_{xx}^{-1} K_{xf}$$\n",
    "\n",
    "(stealing the syntax and some text from Lawrence et al. need to rephrase! :)"
   ]
  },
  {
   "cell_type": "code",
   "execution_count": 1,
   "metadata": {
    "collapsed": false
   },
   "outputs": [
    {
     "name": "stdout",
     "output_type": "stream",
     "text": [
      "[  2.84395209e+00   2.71940179e-01   9.27425045e-02   5.36929032e-02\n",
      "   3.03547759e-02   1.70069259e-02   1.05162666e-02   8.67087185e-03\n",
      "   5.96476191e-03   3.81717275e-03   2.50260436e-03   2.23095207e-03\n",
      "   1.56909677e-03   1.02143815e-03   6.75532777e-04   6.36976535e-04\n",
      "   4.55469727e-04   3.40773318e-04]\n",
      "1.0\n",
      "0.909433486971\n",
      "[ 0.09056651  0.08872641  0.08638774  0.08358114  0.08034271  0.07671356\n",
      "  0.07273933  0.06846955  0.06395707  0.0592574   0.05442802  0.04952766\n",
      "  0.04461561  0.03975096  0.0349919   0.030395    0.02601452  0.02190176\n",
      "  0.01810439  0.01466592]\n"
     ]
    }
   ],
   "source": [
    "#import math\n",
    "from scipy.special import erf\n",
    "import numpy as np\n",
    "\n",
    "#useful little function to help calculate the covariances.\n",
    "def g(z):\n",
    "    return 1.0 * z * np.sqrt(np.pi) * erf(z) + np.exp(-(z**2))\n",
    "\n",
    "#covariance between gradients\n",
    "def k_xx(t,tprime,l):\n",
    "    return 0.5 * (l**2) * ( g(t/l) - g((t - tprime)/l) + g(tprime/l) - 1)\n",
    "\n",
    "#covariance between the gradient and the actual value\n",
    "def k_xf(t,tprime,l):\n",
    "    return 0.5 * np.sqrt(np.pi) * l * (erf((t-tprime)/l) + erf(tprime/l))\n",
    "\n",
    "#process prior. How correlated do we think the latent variable is, before our observations\n",
    "def k_ff(t,tprime,l): \n",
    "    return np.exp(-((t-tprime)**2)/(l**2)) #rbf\n",
    "\n",
    "#find the mean and covariance for the posterior distribution at the test points specified when creating the covariance matrices.\n",
    "def get_GP_reg(K_ff, K_xf, xs):\n",
    "    mean = np.dot(np.dot(K_xf.T,np.linalg.inv(K_xx)),xs) #todo replace inv with stable alternative\n",
    "    print K_ff[0,0]\n",
    "    print (np.dot(np.dot(K_xf.T,np.linalg.inv(K_xx)),K_xf))[0,0]\n",
    "    cov = K_ff - np.dot(np.dot(K_xf.T,np.linalg.inv(K_xx)),K_xf) #todo replace inv with stable alternative\n",
    "    return mean,cov\n",
    "\n",
    "#training data step size\n",
    "step = 0.3\n",
    "ts = np.hstack([np.arange(0,3.5,step),np.arange(4,5,step)])\n",
    "ts = ts + 0.01*np.random.randn(ts.shape[0])\n",
    "\n",
    "#functions for demonstration\n",
    "#xs = np.sin(ts) #sine\n",
    "xs = 2./(1+np.exp(-(5*(ts-2.0)))) #logistic\n",
    "xs = xs + 0.05*np.random.randn(xs.shape[0])\n",
    "\n",
    "#TEMPORARY DEMOS...#################\n",
    "ts = np.array([0,1,2,3])\n",
    "xs = np.array([0,0,1,0])\n",
    "\n",
    "\n",
    "ts = np.array([1,2,3,4,7,8,9,10,11,12,13,14,15,16,17,18,19,20])*.1\n",
    "xs = np.array([0,0,0,0,1,2,3,4,5,4,3,2,1,0,0,0,0,0])\n",
    "#xs = xs - np.mean(xs)\n",
    "##################################\n",
    "\n",
    "#test data steps\n",
    "fts = np.arange(min(ts),max(ts),(max(ts)-min(ts))/1000.0)\n",
    "\n",
    "#Covariance matrices\n",
    "K_ff = np.zeros([fts.shape[0],fts.shape[0]])\n",
    "K_xf = np.zeros([ts.shape[0],fts.shape[0]])\n",
    "K_xx = np.zeros([ts.shape[0],ts.shape[0]])\n",
    "\n",
    "#length scale: currently unstable for large l, suspect we need to rewrite matrix inversions\n",
    "l = 0.1\n",
    "for i,t in enumerate(ts):\n",
    "    for j,ft in enumerate(fts):\n",
    "        K_xf[i,j] = k_xf(t,ft,l)\n",
    "    \n",
    "    for j,t2 in enumerate(ts):\n",
    "        K_xx[i,j] = k_xx(t,t2,l)\n",
    "\n",
    "for i,ft in enumerate(fts):\n",
    "    for j,ft2 in enumerate(fts):\n",
    "        K_ff[i,j] = k_ff(ft,ft2,l)\n",
    "\n",
    "S = 1\n",
    "K_ff = K_ff * S\n",
    "K_xf = K_xf * S\n",
    "K_xx = K_xx * S\n",
    "K_xx = K_xx + np.eye(K_xx.shape[0])*0.\n",
    "#print K_xx\n",
    "evals, evecs = np.linalg.eig(K_xx)\n",
    "print evals\n",
    "#print np.linalg.inv(K_xx)\n",
    "mean, cov = get_GP_reg(K_ff,K_xf,xs)\n",
    "print np.diag(cov)[0:20]"
   ]
  },
  {
   "cell_type": "code",
   "execution_count": 2,
   "metadata": {
    "collapsed": false
   },
   "outputs": [
    {
     "data": {
      "image/png": "[encoded data removed]",
      "text/plain": [
       "<matplotlib.figure.Figure at 0x7f430b327910>"
      ]
     },
     "metadata": {},
     "output_type": "display_data"
    }
   ],
   "source": [
    "import matplotlib.pyplot as plt\n",
    "%matplotlib inline\n",
    "plt.plot(ts,xs,'x',label='observed integrals')\n",
    "plt.plot(fts,mean,'b',linewidth=2,label='posterior mean')\n",
    "stds = np.sqrt(cov.diagonal())\n",
    "plt.plot(fts,mean+stds*1.96,'b', alpha=0.3,label='posterior std err')\n",
    "plt.plot(fts,mean-stds*1.96,'b', alpha=0.3)\n",
    "plt.grid()\n",
    "plt.plot(fts,np.cumsum(mean)*(fts[1]-fts[0]),linewidth=1,label='numerical integration of the posterior mean')\n",
    "plt.legend()\n",
    "plt.title('Predictions of the gradient of a function described by a set of points')\n",
    "#plt.xlim([0,5])\n",
    "fig = plt.gcf()\n",
    "fig.set_size_inches(18.5, 10.5)"
   ]
  },
  {
   "cell_type": "code",
   "execution_count": 3,
   "metadata": {
    "collapsed": false
   },
   "outputs": [
    {
     "data": {
      "text/plain": [
       "<matplotlib.image.AxesImage at 0x7f43027ccc50>"
      ]
     },
     "execution_count": 3,
     "metadata": {},
     "output_type": "execute_result"
    },
    {
     "data": {
      "image/png": "[encoded data removed]",
      "text/plain": [
       "<matplotlib.figure.Figure at 0x7f4331134b50>"
      ]
     },
     "metadata": {},
     "output_type": "display_data"
    }
   ],
   "source": [
    "import matplotlib.pyplot as plt\n",
    "%matplotlib inline\n",
    "\n",
    "plt.matshow(K_xx,cmap='gray')"
   ]
  },
  {
   "cell_type": "markdown",
   "metadata": {},
   "source": [
    "Things to note:\n",
    "\n",
    " - There seems to be a bias, this might be still because of the missing C?\n",
    " - The observed values are assumed to be the integral between 0 and t: For the example above (for differential privacy etc) we are integrating each time window, so we need to add the integrals together.\n",
    " - I need to add the variance in each observation - currently it's quite fragile.\n",
    " - I noticed when the length scale was short, uncertainty in the posterior mean (logically) decreased in proximity to a data point, but it decreased even more a long way from the data: I don't understand where I've made assumptions about that prior uncertainty?"
   ]
  },
  {
   "cell_type": "code",
   "execution_count": 4,
   "metadata": {
    "collapsed": false
   },
   "outputs": [
    {
     "ename": "LinAlgError",
     "evalue": "Singular matrix",
     "output_type": "error",
     "traceback": [
      "\u001b[1;31m---------------------------------------------------------------------------\u001b[0m",
      "\u001b[1;31mLinAlgError\u001b[0m                               Traceback (most recent call last)",
      "\u001b[1;32m<ipython-input-4-18a634951457>\u001b[0m in \u001b[0;36m<module>\u001b[1;34m()\u001b[0m\n\u001b[0;32m     18\u001b[0m         \u001b[0mK_ff\u001b[0m\u001b[1;33m[\u001b[0m\u001b[0mi\u001b[0m\u001b[1;33m]\u001b[0m \u001b[1;33m=\u001b[0m \u001b[0mk_xf\u001b[0m\u001b[1;33m(\u001b[0m\u001b[0mft2\u001b[0m\u001b[1;33m,\u001b[0m\u001b[0mft\u001b[0m\u001b[1;33m,\u001b[0m\u001b[0ml\u001b[0m\u001b[1;33m)\u001b[0m\u001b[1;33m\u001b[0m\u001b[0m\n\u001b[0;32m     19\u001b[0m \u001b[1;33m\u001b[0m\u001b[0m\n\u001b[1;32m---> 20\u001b[1;33m \u001b[0mmean\u001b[0m\u001b[1;33m,\u001b[0m \u001b[0mcov\u001b[0m \u001b[1;33m=\u001b[0m \u001b[0mget_GP_reg\u001b[0m\u001b[1;33m(\u001b[0m\u001b[0mK_ff\u001b[0m\u001b[1;33m,\u001b[0m\u001b[0mK_xf\u001b[0m\u001b[1;33m,\u001b[0m\u001b[0mxs\u001b[0m\u001b[1;33m)\u001b[0m\u001b[1;33m\u001b[0m\u001b[0m\n\u001b[0m",
      "\u001b[1;32m<ipython-input-1-80247fe4a607>\u001b[0m in \u001b[0;36mget_GP_reg\u001b[1;34m(K_ff, K_xf, xs)\u001b[0m\n\u001b[0;32m     21\u001b[0m \u001b[1;31m#find the mean and covariance for the posterior distribution at the test points specified when creating the covariance matrices.\u001b[0m\u001b[1;33m\u001b[0m\u001b[1;33m\u001b[0m\u001b[0m\n\u001b[0;32m     22\u001b[0m \u001b[1;32mdef\u001b[0m \u001b[0mget_GP_reg\u001b[0m\u001b[1;33m(\u001b[0m\u001b[0mK_ff\u001b[0m\u001b[1;33m,\u001b[0m \u001b[0mK_xf\u001b[0m\u001b[1;33m,\u001b[0m \u001b[0mxs\u001b[0m\u001b[1;33m)\u001b[0m\u001b[1;33m:\u001b[0m\u001b[1;33m\u001b[0m\u001b[0m\n\u001b[1;32m---> 23\u001b[1;33m     \u001b[0mmean\u001b[0m \u001b[1;33m=\u001b[0m \u001b[0mnp\u001b[0m\u001b[1;33m.\u001b[0m\u001b[0mdot\u001b[0m\u001b[1;33m(\u001b[0m\u001b[0mnp\u001b[0m\u001b[1;33m.\u001b[0m\u001b[0mdot\u001b[0m\u001b[1;33m(\u001b[0m\u001b[0mK_xf\u001b[0m\u001b[1;33m.\u001b[0m\u001b[0mT\u001b[0m\u001b[1;33m,\u001b[0m\u001b[0mnp\u001b[0m\u001b[1;33m.\u001b[0m\u001b[0mlinalg\u001b[0m\u001b[1;33m.\u001b[0m\u001b[0minv\u001b[0m\u001b[1;33m(\u001b[0m\u001b[0mK_xx\u001b[0m\u001b[1;33m)\u001b[0m\u001b[1;33m)\u001b[0m\u001b[1;33m,\u001b[0m\u001b[0mxs\u001b[0m\u001b[1;33m)\u001b[0m \u001b[1;31m#todo replace inv with stable alternative\u001b[0m\u001b[1;33m\u001b[0m\u001b[0m\n\u001b[0m\u001b[0;32m     24\u001b[0m     \u001b[1;32mprint\u001b[0m \u001b[0mK_ff\u001b[0m\u001b[1;33m[\u001b[0m\u001b[1;36m0\u001b[0m\u001b[1;33m,\u001b[0m\u001b[1;36m0\u001b[0m\u001b[1;33m]\u001b[0m\u001b[1;33m\u001b[0m\u001b[0m\n\u001b[0;32m     25\u001b[0m     \u001b[1;32mprint\u001b[0m \u001b[1;33m(\u001b[0m\u001b[0mnp\u001b[0m\u001b[1;33m.\u001b[0m\u001b[0mdot\u001b[0m\u001b[1;33m(\u001b[0m\u001b[0mnp\u001b[0m\u001b[1;33m.\u001b[0m\u001b[0mdot\u001b[0m\u001b[1;33m(\u001b[0m\u001b[0mK_xf\u001b[0m\u001b[1;33m.\u001b[0m\u001b[0mT\u001b[0m\u001b[1;33m,\u001b[0m\u001b[0mnp\u001b[0m\u001b[1;33m.\u001b[0m\u001b[0mlinalg\u001b[0m\u001b[1;33m.\u001b[0m\u001b[0minv\u001b[0m\u001b[1;33m(\u001b[0m\u001b[0mK_xx\u001b[0m\u001b[1;33m)\u001b[0m\u001b[1;33m)\u001b[0m\u001b[1;33m,\u001b[0m\u001b[0mK_xf\u001b[0m\u001b[1;33m)\u001b[0m\u001b[1;33m)\u001b[0m\u001b[1;33m[\u001b[0m\u001b[1;36m0\u001b[0m\u001b[1;33m,\u001b[0m\u001b[1;36m0\u001b[0m\u001b[1;33m]\u001b[0m\u001b[1;33m\u001b[0m\u001b[0m\n",
      "\u001b[1;32m/home/lionfish/anaconda2/lib/python2.7/site-packages/numpy/linalg/linalg.pyc\u001b[0m in \u001b[0;36minv\u001b[1;34m(a)\u001b[0m\n\u001b[0;32m    524\u001b[0m     \u001b[0msignature\u001b[0m \u001b[1;33m=\u001b[0m \u001b[1;34m'D->D'\u001b[0m \u001b[1;32mif\u001b[0m \u001b[0misComplexType\u001b[0m\u001b[1;33m(\u001b[0m\u001b[0mt\u001b[0m\u001b[1;33m)\u001b[0m \u001b[1;32melse\u001b[0m \u001b[1;34m'd->d'\u001b[0m\u001b[1;33m\u001b[0m\u001b[0m\n\u001b[0;32m    525\u001b[0m     \u001b[0mextobj\u001b[0m \u001b[1;33m=\u001b[0m \u001b[0mget_linalg_error_extobj\u001b[0m\u001b[1;33m(\u001b[0m\u001b[0m_raise_linalgerror_singular\u001b[0m\u001b[1;33m)\u001b[0m\u001b[1;33m\u001b[0m\u001b[0m\n\u001b[1;32m--> 526\u001b[1;33m     \u001b[0mainv\u001b[0m \u001b[1;33m=\u001b[0m \u001b[0m_umath_linalg\u001b[0m\u001b[1;33m.\u001b[0m\u001b[0minv\u001b[0m\u001b[1;33m(\u001b[0m\u001b[0ma\u001b[0m\u001b[1;33m,\u001b[0m \u001b[0msignature\u001b[0m\u001b[1;33m=\u001b[0m\u001b[0msignature\u001b[0m\u001b[1;33m,\u001b[0m \u001b[0mextobj\u001b[0m\u001b[1;33m=\u001b[0m\u001b[0mextobj\u001b[0m\u001b[1;33m)\u001b[0m\u001b[1;33m\u001b[0m\u001b[0m\n\u001b[0m\u001b[0;32m    527\u001b[0m     \u001b[1;32mreturn\u001b[0m \u001b[0mwrap\u001b[0m\u001b[1;33m(\u001b[0m\u001b[0mainv\u001b[0m\u001b[1;33m.\u001b[0m\u001b[0mastype\u001b[0m\u001b[1;33m(\u001b[0m\u001b[0mresult_t\u001b[0m\u001b[1;33m,\u001b[0m \u001b[0mcopy\u001b[0m\u001b[1;33m=\u001b[0m\u001b[0mFalse\u001b[0m\u001b[1;33m)\u001b[0m\u001b[1;33m)\u001b[0m\u001b[1;33m\u001b[0m\u001b[0m\n\u001b[0;32m    528\u001b[0m \u001b[1;33m\u001b[0m\u001b[0m\n",
      "\u001b[1;32m/home/lionfish/anaconda2/lib/python2.7/site-packages/numpy/linalg/linalg.pyc\u001b[0m in \u001b[0;36m_raise_linalgerror_singular\u001b[1;34m(err, flag)\u001b[0m\n\u001b[0;32m     88\u001b[0m \u001b[1;33m\u001b[0m\u001b[0m\n\u001b[0;32m     89\u001b[0m \u001b[1;32mdef\u001b[0m \u001b[0m_raise_linalgerror_singular\u001b[0m\u001b[1;33m(\u001b[0m\u001b[0merr\u001b[0m\u001b[1;33m,\u001b[0m \u001b[0mflag\u001b[0m\u001b[1;33m)\u001b[0m\u001b[1;33m:\u001b[0m\u001b[1;33m\u001b[0m\u001b[0m\n\u001b[1;32m---> 90\u001b[1;33m     \u001b[1;32mraise\u001b[0m \u001b[0mLinAlgError\u001b[0m\u001b[1;33m(\u001b[0m\u001b[1;34m\"Singular matrix\"\u001b[0m\u001b[1;33m)\u001b[0m\u001b[1;33m\u001b[0m\u001b[0m\n\u001b[0m\u001b[0;32m     91\u001b[0m \u001b[1;33m\u001b[0m\u001b[0m\n\u001b[0;32m     92\u001b[0m \u001b[1;32mdef\u001b[0m \u001b[0m_raise_linalgerror_nonposdef\u001b[0m\u001b[1;33m(\u001b[0m\u001b[0merr\u001b[0m\u001b[1;33m,\u001b[0m \u001b[0mflag\u001b[0m\u001b[1;33m)\u001b[0m\u001b[1;33m:\u001b[0m\u001b[1;33m\u001b[0m\u001b[0m\n",
      "\u001b[1;31mLinAlgError\u001b[0m: Singular matrix"
     ]
    }
   ],
   "source": [
    "step = 0.2\n",
    "ts = np.hstack([np.arange(0,3.5,step),np.arange(4,5,step)])\n",
    "xs = np.cos(ts*4) #sine\n",
    "l = 0.1\n",
    "K_ff = np.zeros([fts.shape[0],fts.shape[0]])\n",
    "K_xf = np.zeros([fts.shape[0],ts.shape[0]])\n",
    "K_xx = np.zeros([ts.shape[0],ts.shape[0]])\n",
    "\n",
    "for i,t in enumerate(ts):\n",
    "    for j,ft in enumerate(fts):\n",
    "        K_xf[j,i] = k_xf(ft,t,l)\n",
    "    \n",
    "    for j,t2 in enumerate(ts):\n",
    "        K_xx[i,j] = k_xx(t2,t,l)\n",
    "\n",
    "for i,ft in enumerate(fts):\n",
    "    for j,ft2 in enumerate(fts):\n",
    "        K_ff[i] = k_xf(ft2,ft,l)\n",
    "\n",
    "mean, cov = get_GP_reg(K_ff,K_xf,xs)"
   ]
  },
  {
   "cell_type": "code",
   "execution_count": null,
   "metadata": {
    "collapsed": false
   },
   "outputs": [],
   "source": [
    "plt.plot(ts,xs,'x',label='observed integrals')\n",
    "plt.plot(fts,mean,'b',linewidth=2,label='posterior mean')\n",
    "stds = np.sqrt(cov.diagonal())\n",
    "plt.plot(fts,mean+stds,'b', alpha=0.3,label='posterior std err')\n",
    "plt.plot(fts,mean-stds,'b', alpha=0.3)\n",
    "plt.grid()\n",
    "plt.plot(fts,np.cumsum(mean)*(fts[1]-fts[0])+xs[0],linewidth=1,label='numerical integration of the posterior mean')\n",
    "plt.legend()\n",
    "plt.title('Predictions of the gradient of a function described by a set of points')\n",
    "plt.xlim([0,5])\n",
    "fig = plt.gcf()\n",
    "fig.set_size_inches(18.5, 10.5)"
   ]
  },
  {
   "cell_type": "code",
   "execution_count": null,
   "metadata": {
    "collapsed": false
   },
   "outputs": [],
   "source": [
    "N = 100\n",
    "age = np.random.rand(N,1)*18 #ages (months)\n",
    "weight = 3 + 10.0*np.sqrt(age) + np.random.randn(N,1)*4 #weight (kg)"
   ]
  },
  {
   "cell_type": "code",
   "execution_count": null,
   "metadata": {
    "collapsed": false
   },
   "outputs": [],
   "source": [
    "blocksize = 3\n",
    "ageblocks = np.arange(0,18,blocksize)\n",
    "weightblocks = np.zeros_like(ageblocks)\n",
    "for i,ab in enumerate(ageblocks):\n",
    "    data = weight[(age>ab) & (age<ab+blocksize)]\n",
    "    weightblocks[i] = np.mean(data) + np.random.laplace(0,scale=(50/len(data))) #todo use cleverer mechanism"
   ]
  },
  {
   "cell_type": "code",
   "execution_count": null,
   "metadata": {
    "collapsed": false
   },
   "outputs": [],
   "source": [
    "plt.plot(age,weight,'x');\n",
    "plt.plot(ageblocks+blocksize/2, weightblocks, '.r')"
   ]
  },
  {
   "cell_type": "code",
   "execution_count": null,
   "metadata": {
    "collapsed": false
   },
   "outputs": [],
   "source": [
    "ts = ageblocks\n",
    "xs = np.cumsum(weightblocks)\n",
    "#offset = xs[0]\n",
    "#xs -= offset\n",
    "\n",
    "\n",
    "#gradient = 1.0*(xs[1]-xs[0])/(ts[1]-ts[0])\n",
    "#xs = xs - gradient * ts\n",
    "\n",
    "\n",
    "fts = np.arange(0,18,0.1)\n",
    "\n",
    "#Covariance matrices\n",
    "K_ff = np.zeros([fts.shape[0],fts.shape[0]])\n",
    "K_xf = np.zeros([fts.shape[0],ts.shape[0]])\n",
    "K_xx = np.zeros([ts.shape[0],ts.shape[0]])\n",
    "\n",
    "l = 0.2\n",
    "for i,t in enumerate(ts):\n",
    "    for j,ft in enumerate(fts):\n",
    "        K_xf[j,i] = k_xf(ft,t,l)\n",
    "    \n",
    "    for j,t2 in enumerate(ts):\n",
    "        K_xx[i,j] = k_xx(t2,t,l)\n",
    "\n",
    "for i,ft in enumerate(fts):\n",
    "    for j,ft2 in enumerate(fts):\n",
    "        K_ff[i] = k_xf(ft2,ft,l)\n",
    "\n",
    "mean, cov = get_GP_reg(K_ff,K_xf,xs)\n",
    "#mean = mean + gradient * fts\n",
    "#mean = mean + offset\n",
    "#xs += gradient * ts\n",
    "#xs += offset"
   ]
  },
  {
   "cell_type": "code",
   "execution_count": null,
   "metadata": {
    "collapsed": false
   },
   "outputs": [],
   "source": [
    "plt.plot(ts,xs,'x',label='observed integrals')\n",
    "plt.plot(fts,mean,'b',linewidth=2,label='posterior mean')\n",
    "stds = np.sqrt(cov.diagonal())\n",
    "plt.plot(fts,mean+stds,'b', alpha=0.3,label='posterior std err')\n",
    "plt.plot(fts,mean-stds,'b', alpha=0.3)\n",
    "plt.grid()\n",
    "plt.plot(fts,np.cumsum(mean)*(fts[1]-fts[0]),linewidth=1,label='numerical integration of the posterior mean')\n",
    "plt.legend()\n",
    "plt.title('Predictions of the gradient of a function described by a set of points')\n",
    "fig = plt.gcf()\n",
    "fig.set_size_inches(18.5, 10.5)"
   ]
  },
  {
   "cell_type": "markdown",
   "metadata": {},
   "source": [
    "This currently doesn't work - probably due to the constant factor missing, etc?\n",
    "\n",
    "In general I've forgotten the point - why aren't we just using the means?\n",
    "\n",
    "Do we need to do something clever so the limits of each point aren't from 0 to t?"
   ]
  },
  {
   "cell_type": "markdown",
   "metadata": {
    "collapsed": true
   },
   "source": [
    "## Differentiate wrt $l$:\n",
    "\n",
    "To differentiate wrt $l$:\n",
    "\n",
    "$$ k_{xx}(t,t') = \\frac{l^2}{2} \\Big[ g \\left(\\frac{t}{l} \\right) - g \\left(\\frac{t-t'}{l} \\right) + g \\left(\\frac{t'}{l} \\right) -1 \\Big]$$\n",
    "\n",
    "where\n",
    "\n",
    "$$g(z) = z\\;\\sqrt{\\pi}\\;\\text{erf}(z)\\;+\\;e^{-z^2}$$\n",
    "\n",
    "we consider just the first term:"
   ]
  },
  {
   "cell_type": "markdown",
   "metadata": {},
   "source": [
    "$$\\frac{l^2}{2} g \\left(\\frac{t}{l} \\right)$$\n",
    "\n",
    "which one finds is:\n",
    "\n",
    "$$l e^{-\\frac{t^2}{l^2}} + \\frac{t \\sqrt{\\pi}}{2} \\text{erf}\\left(\\frac{t}{l}\\right)$$\n",
    "\n",
    "This is similar to the $g$ function, but the $\\texttt{erf}$ term is halved, so we consider a new function:\n",
    "\n",
    "$$h(z) = \\frac{z\\;\\sqrt{\\pi}}{2}\\;\\text{erf}(z)\\;+\\;e^{-z^2}$$\n",
    "\n",
    "which allows us to write the derivative of the kernel wrt $l$ as:\n",
    "\n",
    "$$l\\;\\Big[h \\Big(\\frac{t}{l}\\Big) - h \\Big(\\frac{t-t'}{l}\\Big) + h \\Big(\\frac{t'}{l}\\Big) - 1 \\Big]$$\n"
   ]
  },
  {
   "cell_type": "code",
   "execution_count": null,
   "metadata": {
    "collapsed": false
   },
   "outputs": [],
   "source": [
    "import math\n",
    "def h(z):\n",
    "    return 0.5 * z * np.sqrt(math.pi) * math.erf(z) + np.exp(-(z**2))\n",
    "\n",
    "def dk_dl(t,tprime,l):\n",
    "    return l * ( h(t/l) - h((t - tprime)/l) + h(tprime/l) - 1)\n",
    "\n",
    "l = 0.2\n",
    "deltal = 0.001\n",
    "print (k_xx(1,2,l+deltal)-k_xx(1,2,l))/deltal\n",
    "print dk_dl(1,2,l)"
   ]
  },
  {
   "cell_type": "code",
   "execution_count": null,
   "metadata": {
    "collapsed": false
   },
   "outputs": [],
   "source": [
    "ts = np.array([1,2,3])\n",
    "K_xx = np.zeros([ts.shape[0],ts.shape[0]])\n",
    "\n",
    "for i,t in enumerate(ts):\n",
    "    for j,ft in enumerate(fts):\n",
    "        K_xf[j,i] = k_xf(ft,t,l)\n",
    "    \n",
    "    for j,t2 in enumerate(ts):\n",
    "        K_xx[i,j] = k_xx(t2,t,l)\n",
    "        \n",
    "K_xx"
   ]
  },
  {
   "cell_type": "code",
   "execution_count": null,
   "metadata": {
    "collapsed": false
   },
   "outputs": [],
   "source": [
    "z = np.array([1,2])\n"
   ]
  },
  {
   "cell_type": "markdown",
   "metadata": {},
   "source": [
    "### Gradient of $k_{xf}$ wrt l?\n",
    "\n",
    "We also need to differentiate this wrt $l$:\n",
    "\n",
    "$$ k_{xf}(t,t') = \\frac{\\sqrt{\\pi } l}{2} \\left(\\text{erf}\\left(\\frac{t-t'}{l}\\right)+\\text{erf}\\left(\\frac{t'}{l}\\right)\\right) $$"
   ]
  },
  {
   "cell_type": "markdown",
   "metadata": {},
   "source": [
    "$$\\frac{\\delta k_{xf}}{\\delta l} = d \\Big(\\frac{t-t'}{l}\\Big) + d \\Big(\\frac{t'}{l} \\Big)$$\n",
    "\n",
    "where \n",
    "\n",
    "$$d(z) = z e^{-z^2} - \\frac{\\sqrt{\\pi}}{2}\\text{erf}(z)$$"
   ]
  },
  {
   "cell_type": "code",
   "execution_count": null,
   "metadata": {
    "collapsed": true
   },
   "outputs": [],
   "source": [
    "def d(z):\n",
    "    return 0.5 * np.sqrt(math.pi) * math.erf(z) - (z * np.exp(-(z**2)))\n",
    "\n",
    "def dkxf_dl(t,tprime,l):\n",
    "    return d((t-tprime)/l) + d(tprime/l)"
   ]
  },
  {
   "cell_type": "code",
   "execution_count": null,
   "metadata": {
    "collapsed": false
   },
   "outputs": [],
   "source": [
    "l = 3.5\n",
    "deltal = 0.00001\n",
    "print (k_xf(1,2,l+deltal)-k_xf(1,2,l))/deltal\n",
    "print dkxf_dl(1,2,l)"
   ]
  },
  {
   "cell_type": "markdown",
   "metadata": {},
   "source": [
    "### Trace\n",
    "\n",
    "tr(AB) = sum(A [elementwise x] B) if A and B are symmetric"
   ]
  },
  {
   "cell_type": "code",
   "execution_count": null,
   "metadata": {
    "collapsed": false
   },
   "outputs": [],
   "source": [
    "A = np.array([[1,3],[3,2]])\n",
    "B = np.array([[4,0],[0,1]])\n",
    "\n",
    "print A*B\n",
    "print np.sum(A*B)\n",
    "print np.dot(A,B)\n",
    "print np.trace(np.dot(A,B))"
   ]
  },
  {
   "cell_type": "code",
   "execution_count": null,
   "metadata": {
    "collapsed": false
   },
   "outputs": [],
   "source": [
    "def temp(x):\n",
    "    return x*math.erf(1.0/x)\n",
    "    \n",
    "A = 100\n",
    "deltaA = 0.00001\n",
    "print (temp(A)-temp(A+deltaA))/deltaA"
   ]
  },
  {
   "cell_type": "code",
   "execution_count": null,
   "metadata": {
    "collapsed": false
   },
   "outputs": [],
   "source": [
    "x = np.arange(0,10,0.1)\n",
    "y = np.array([k_xf(1,2,xi) for xi in x])\n",
    "dy = np.array([dkxf_dl(1,2,xi) for xi in x])\n",
    "\n",
    "plt.plot(x,y)\n",
    "plt.plot(x,dy)"
   ]
  },
  {
   "cell_type": "markdown",
   "metadata": {
    "collapsed": true
   },
   "source": [
    "## Integrating between limits\n",
    "\n",
    "The covariance of f(u), $k_{ff}(t,t')$ we assume is still an RBF kernel:\n",
    "\n",
    "$$k_{ff} = \\sigma^2\\; e^{-{{(u-u')^2} \\over {l^2}}}$$\n",
    "\n",
    "So the covariance of x, will be:\n",
    "\n",
    "$$ k_{xx} = \\sigma^2\\; \\int_s^t \\int_{s'}^{t'} k_{ff}(u,u')\\; du' du$$\n",
    "\n",
    "Performing the integration (in mathematica)...\n",
    "\n",
    "$$ k_{xx} = \\sigma^2\\; \\int_s^t \\int_{s'}^{t'} e^{-{{(u-u')^2} \\over {l^2}}}\\; du' du$$"
   ]
  },
  {
   "cell_type": "markdown",
   "metadata": {},
   "source": [
    "$$ k_{xx}(t,t') = \\sigma^2 \\int_s^t \\frac{\\sqrt{\\pi } l}{2} \\left(\\text{erf}\\left(\\frac{t'-u}{l}\\right)+\\text{erf}\\left(\\frac{u - s'}{l}\\right)\\right) \\;du $$\n",
    "\n",
    "$$\\frac{1}{2} \\sqrt{\\pi } l \\sigma^2 \\left((s'-s) \\text{erf}\\left(\\frac{s-s'}{l}\\right)+(s-t')\n",
    "   \\text{erf}\\left(\\frac{s-t'}{l}\\right)+s' \\text{erf}\\left(\\frac{s'-t}{l}\\right)+t\n",
    "   \\text{erf}\\left(\\frac{t-s'}{l}\\right)+(t-t') \\text{erf}\\left(\\frac{t'-t}{l}\\right)+\\frac{l\n",
    "   \\left(-e^{-\\frac{(s-s')^2}{l^2}}+e^{-\\frac{(s-t')^2}{l^2}}+e^{-\\frac{(s'-t)^2}{l^2}}-e^{-\\frac{(t-t')\n",
    "   ^2}{l^2}}\\right)}{\\sqrt{\\pi }}\\right)$$\n",
    "   \n",
    "Using similar notation as earlier we can simplify the above with:\n",
    "\n",
    "$$ k_{xx}((s,t),(s',t')) = \\sigma^2 \\frac{l^2}{2} \\Big[ g \\left(\\frac{t-s'}{l} \\right) + g \\left(\\frac{t'-s}{l} \\right) - g \\left(\\frac{t-t'}{l} \\right) - g \\left(\\frac{s-s'}{l} \\right) \\Big]$$\n",
    "\n",
    "(for reference, compare to earlier, where $s$ and $s'$ were both zero): $ k_{xx}(t,t') = \\frac{l^2}{2} \\Big[ g \\left(\\frac{t}{l} \\right) - g \\left(\\frac{t-t'}{l} \\right) + g \\left(\\frac{t'}{l} \\right) -1 \\Big]$. One can see how the terms were simplified, and where the $-1$ came from.\n",
    "\n",
    "\n",
    "where\n",
    "\n",
    "$$g(z) = z\\;\\sqrt{\\pi}\\;\\text{erf}(z)\\;+\\;e^{-z^2}$$\n",
    "\n",
    "Note we make use of the fact that g is an even function, to get the order of terms the same as before (just because it's nicer if there's fewer changes):"
   ]
  },
  {
   "cell_type": "code",
   "execution_count": 8,
   "metadata": {
    "collapsed": false
   },
   "outputs": [
    {
     "data": {
      "text/plain": [
       "[<matplotlib.lines.Line2D at 0x7f43144b2190>]"
      ]
     },
     "execution_count": 8,
     "metadata": {},
     "output_type": "execute_result"
    },
    {
     "data": {
      "image/png": "[encoded data removed]",
      "text/plain": [
       "<matplotlib.figure.Figure at 0x7f43145e8fd0>"
      ]
     },
     "metadata": {},
     "output_type": "display_data"
    }
   ],
   "source": [
    "plt.plot(np.arange(-5,5,0.1),g(np.arange(-5,5,0.1)))"
   ]
  },
  {
   "cell_type": "markdown",
   "metadata": {},
   "source": [
    "We also need to know the cross covariance again (between x and f):\n",
    "\n",
    "Previously it was $ k_{xf}(t,t') = \\frac{\\sqrt{\\pi } l}{2} \\left(\\text{erf}\\left(\\frac{t-t'}{l}\\right)+\\text{erf}\\left(\\frac{t'}{l}\\right)\\right)$. \n",
    "\n",
    "It's now:\n",
    "\n",
    "$$ k_{xf}((s,t),(s',t')) = \\frac{\\sqrt{\\pi } l}{2} \\left(\\text{erf}\\left(\\frac{t-t'}{l}\\right)+\\text{erf}\\left(\\frac{t'-s}{l}\\right)\\right) $$\n",
    "\n",
    "$s'$ isn't used in the above expression!"
   ]
  },
  {
   "cell_type": "markdown",
   "metadata": {},
   "source": [
    "Differentiating $K_{xx}$ wrt $l$:\n",
    "\n",
    "Using $h$ again:\n",
    "\n",
    "$$h(z) = \\frac{z\\;\\sqrt{\\pi}}{2}\\;\\text{erf}(z)\\;+\\;e^{-z^2}$$\n",
    "\n",
    "which allows us to write the derivative of the kernel wrt $l$ as:\n",
    "\n",
    "$$\\sigma^2 l\\;\\Big[h \\Big(\\frac{t-s'}{l}\\Big) + h \\Big(\\frac{t'-s}{l}\\Big) - h \\Big(\\frac{t-t'}{l}\\Big) - h \\Big(\\frac{s-s'}{l}\\Big) \\Big]$$\n",
    "\n",
    "Compare to the old derivative: $l\\;\\Big[h \\Big(\\frac{t}{l}\\Big) - h \\Big(\\frac{t-t'}{l}\\Big) + h \\Big(\\frac{t'}{l}\\Big) - 1 \\Big]$"
   ]
  },
  {
   "cell_type": "code",
   "execution_count": null,
   "metadata": {
    "collapsed": true
   },
   "outputs": [],
   "source": []
  }
 ],
 "metadata": {
  "kernelspec": {
   "display_name": "Python 2",
   "language": "python",
   "name": "python2"
  },
  "language_info": {
   "codemirror_mode": {
    "name": "ipython",
    "version": 2
   },
   "file_extension": ".py",
   "mimetype": "text/x-python",
   "name": "python",
   "nbconvert_exporter": "python",
   "pygments_lexer": "ipython2",
   "version": "2.7.11"
  }
 },
 "nbformat": 4,
 "nbformat_minor": 0
}
