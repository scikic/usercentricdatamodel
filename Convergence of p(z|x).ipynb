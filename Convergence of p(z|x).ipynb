{
 "cells": [
  {
   "cell_type": "markdown",
   "metadata": {},
   "source": [
    "There are N data points, $\\mathbf{z_1} ... \\mathbf{z_N}$. \n",
    " \n",
    "$$p(\\mathbf{z_n}) = N (\\mathbf{z_n}|\\mathbf{0},I)$$\n",
    "\n",
    "$$p(\\mathbf{z_n}|\\mathbf{x_n}) = N (\\mathbf{z_n}|M^{-1} W^T \\mathbf{x_n}, \\sigma^2 M)$$\n",
    "\n",
    "In the algorithm we calculate an estimate of $E[\\mathbf{z_n}]$. I.e: $M^{-1} W^T x_n$. Using the values of W (and M) generated in the M-step. We find $E[\\mathbf{z_n}]$ for each of the z's. For some reason the distribution of these expectations is normally distributed with mean 0, variance 1...\n",
    "\n",
    "Below we run the EM algorithm to estimate W etc, I've recorded the mean and std of the E[z] latent variables."
   ]
  },
  {
   "cell_type": "code",
   "execution_count": 2,
   "metadata": {
    "collapsed": false
   },
   "outputs": [
    {
     "ename": "NameError",
     "evalue": "name 'sig_store' is not defined",
     "output_type": "error",
     "traceback": [
      "\u001b[1;31m---------------------------------------------------------------------------\u001b[0m",
      "\u001b[1;31mNameError\u001b[0m                                 Traceback (most recent call last)",
      "\u001b[1;32m<ipython-input-2-4c3a45ef9bd7>\u001b[0m in \u001b[0;36m<module>\u001b[1;34m()\u001b[0m\n\u001b[0;32m     68\u001b[0m     \u001b[0mnew_sigsqr\u001b[0m \u001b[1;33m=\u001b[0m \u001b[1;33m(\u001b[0m\u001b[1;36m1.0\u001b[0m\u001b[1;33m/\u001b[0m\u001b[1;33m(\u001b[0m\u001b[0mN\u001b[0m\u001b[1;33m*\u001b[0m\u001b[0mDn\u001b[0m\u001b[1;33m)\u001b[0m\u001b[1;33m)\u001b[0m \u001b[1;33m*\u001b[0m \u001b[0mtemp\u001b[0m \u001b[1;31m#changed brackets\u001b[0m\u001b[1;33m\u001b[0m\u001b[0m\n\u001b[0;32m     69\u001b[0m \u001b[1;33m\u001b[0m\u001b[0m\n\u001b[1;32m---> 70\u001b[1;33m     \u001b[0msig_store\u001b[0m\u001b[1;33m.\u001b[0m\u001b[0mappend\u001b[0m\u001b[1;33m(\u001b[0m\u001b[0mnew_sigsqr\u001b[0m\u001b[1;33m)\u001b[0m\u001b[1;33m\u001b[0m\u001b[0m\n\u001b[0m\u001b[0;32m     71\u001b[0m \u001b[1;33m\u001b[0m\u001b[0m\n\u001b[0;32m     72\u001b[0m     \u001b[0mW\u001b[0m \u001b[1;33m=\u001b[0m \u001b[0mnew_W\u001b[0m\u001b[1;33m.\u001b[0m\u001b[0mcopy\u001b[0m\u001b[1;33m(\u001b[0m\u001b[1;33m)\u001b[0m\u001b[1;33m\u001b[0m\u001b[0m\n",
      "\u001b[1;31mNameError\u001b[0m: name 'sig_store' is not defined"
     ]
    }
   ],
   "source": [
    "#First set up our dataset, etc: A 3d dataset\n",
    "import numpy as np\n",
    "import matplotlib.pyplot as plt\n",
    "\n",
    "np.set_printoptions(precision=6)\n",
    "np.set_printoptions(suppress=True)\n",
    "\n",
    "Dn = 3 #number of dimensions in the observed variables.\n",
    "Mn = 2 #number of dimensions the latent variables will have (principal components)\n",
    "N = 200 #number of data points\n",
    "\n",
    "#initial values of parameters sigma^2 and the transform W (between the observed space and the latent space)\n",
    "sigsqr = 1.0 #starting value of the noise variance sigma^2\n",
    "W = np.random.randn(Dn,Mn) * .01 #starting value of the transform W\n",
    "\n",
    "#data generation\n",
    "x = np.random.randn(Dn,N)\n",
    "x[1,:] += x[0,:]*1.5 #some covariance\n",
    "x[0,:] = x[0,:] * 5.0\n",
    "x[1,:] = x[1,:] * 2.0\n",
    "x[2,:] -= x[1,:] * 4\n",
    "x = x + np.random.randn(Dn,N) * .0\n",
    "\n",
    "x = x * 10.0\n",
    "#used later for efficiency.\n",
    "zeromean_x = (x.T - np.mean(x,1)).T\n",
    "\n",
    "Ezz = []\n",
    "Ez = []\n",
    "for n in range(N):\n",
    "    Ezz.append(np.zeros([Mn,Mn]))\n",
    "    Ez.append(np.zeros(Mn)[:,None])\n",
    "\n",
    "expz_mean = []\n",
    "expz_std = []\n",
    "expzz_\n",
    "for it in range(10000):\n",
    "    #Expectation, find values of components...\n",
    "    M = np.dot(W.T,W) + sigsqr * np.eye(Mn)\n",
    "    invM = np.linalg.inv(M) #TODO Solve using linalg.solve (MORE STABLE)\n",
    "    old_Ez = Ez[:] #Use Cholesky decomp to do this inversion in a more stable way.\n",
    "\n",
    "    for n in range(N): #TODO: Vectorise\n",
    "        Ez[n] = np.dot(np.dot(invM,W.T),zeromean_x[:,n])[:,None] #MxD . Dx1 = Mx1\n",
    "        Ezz[n] = sigsqr * invM + np.dot(Ez[n],Ez[n].T)\n",
    "    #Maximisation \n",
    "    #Next We've differentiated E[ln p(X,Z|parameters)] and,\n",
    "    #setting equal to zero, we can find what the parameters equal to maximise this    \n",
    "    \n",
    "    partA = np.zeros([Dn,Mn])\n",
    "    for n in range(N):\n",
    "        partA += np.dot(zeromean_x[:,n][:,None],Ez[n].T)\n",
    "        #if n==5:\n",
    "        #    print np.dot(zeromean_x[:,n][:,None],Ez[n].T)\n",
    "        #    print np.dot(zeromean_x[:,n][:,None],np.dot(np.dot(invM,W.T),zeromean_x[:,n])[:,None].T)\n",
    "        #    print np.dot(np.dot(zeromean_x[:,n][:,None],zeromean_x[:,n][:,None].T),np.dot(W,invM.T))\n",
    "        #    print \"----\"\n",
    "\n",
    "        \n",
    "    partB = np.zeros([Mn,Mn])\n",
    "    for n in range(N):\n",
    "        partB += Ezz[n]\n",
    "    new_W = np.dot(partA, np.linalg.inv(partB)) #TODO Replace inverse\n",
    "    temp = 0\n",
    "    for n in range(N):\n",
    "        #np.linalg.norm() replace below\n",
    "        temp += np.dot(zeromean_x[:,n],zeromean_x[:,n]) - 2.0*np.dot(np.dot(Ez[n].T, new_W.T),zeromean_x[:,n])\n",
    "        temp += np.trace(np.dot(Ezz[n],np.dot(new_W.T,new_W)))\n",
    "    new_sigsqr = (1.0/(N*Dn)) * temp #changed brackets\n",
    "\n",
    "    sig_store.append(new_sigsqr)\n",
    "   \n",
    "    W = new_W.copy()\n",
    "    sigsqr = new_sigsqr\n",
    "    expz = np.array(Ez[:]).squeeze()\n",
    "    expz_std.append(np.std(expz,0))\n",
    "    expz_mean.append(np.mean(expz))\n",
    "print W\n",
    "import matplotlib.pyplot as plt\n",
    "%matplotlib inline"
   ]
  },
  {
   "cell_type": "markdown",
   "metadata": {},
   "source": [
    "Below I've plotted how the standard deviation (and mean) of the $E[z_n]$ vectors converge towards N(0,1)."
   ]
  },
  {
   "cell_type": "code",
   "execution_count": null,
   "metadata": {
    "collapsed": false
   },
   "outputs": [],
   "source": [
    "plt.plot(np.vstack(expz_std))\n",
    "plt.plot([0,10000],[1,1],'--k')\n",
    "plt.title('E[z] standard deviation across points, over iterations')\n",
    "plt.ylim([.9,1.4])\n",
    "\n",
    "plt.figure()\n",
    "plt.plot(expz_mean)\n",
    "plt.plot([0,10000],[0,0],'--k')\n",
    "plt.title('E[z] standard deviation across points, over iterations')\n",
    "#plt.ylim([min(expz_mean),max(expz_mean)])"
   ]
  },
  {
   "cell_type": "markdown",
   "metadata": {},
   "source": [
    "Neil explained that *\"p(z|x) will tend towards N(0,1) after convergence, as this is expected for whitened data\"*. \n",
    "\n",
    "Intuitively this makes sense: Our data fits the prior most closely when this is true, and due to the number of degrees of freedom available (through the scale of W's values, for example) the z values can move towards this distribution."
   ]
  },
  {
   "cell_type": "code",
   "execution_count": 5,
   "metadata": {
    "collapsed": false
   },
   "outputs": [
    {
     "data": {
      "text/plain": [
       "array([[ 18.245383,  -9.768028],\n",
       "       [ -9.768028,   6.532717]])"
      ]
     },
     "execution_count": 5,
     "metadata": {},
     "output_type": "execute_result"
    }
   ],
   "source": []
  },
  {
   "cell_type": "code",
   "execution_count": null,
   "metadata": {
    "collapsed": true
   },
   "outputs": [],
   "source": []
  }
 ],
 "metadata": {
  "kernelspec": {
   "display_name": "Python 2",
   "language": "python",
   "name": "python2"
  },
  "language_info": {
   "codemirror_mode": {
    "name": "ipython",
    "version": 2
   },
   "file_extension": ".py",
   "mimetype": "text/x-python",
   "name": "python",
   "nbconvert_exporter": "python",
   "pygments_lexer": "ipython2",
   "version": "2.7.11"
  }
 },
 "nbformat": 4,
 "nbformat_minor": 0
}
