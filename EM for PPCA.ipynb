{
 "cells": [
  {
   "cell_type": "markdown",
   "metadata": {},
   "source": [
    "# Literature Review of DP for machine learning\n",
    "\n",
    "There's a lot some work already in the field. I've not looked at it much, having instead jumped straight into trying to apply DP to PPCA. \n",
    "\n",
    "Most relevant is Berlioz (2015) paper, in which they have applied DP to matrix factorisation.\n",
    "\n",
    "Reading the lit section of Berlioz, in the area of distributed recommender systems:\n",
    "\n",
    "  - Canny (2002) - distributed SVM.\n",
    "  - Vallet (20??) - \n",
    "\n",
    "\"Canny proposed a decentralized storage of user profiles, which requires the adversary to compromise multiple systems when attacking a distributed recommender [3]. Vallet et al. [17] have shown how MF techniques can be leveraged to allow a central server to provide accurate recommendations without retention of user data, storing it on the client side instead.\"\n",
    "\n",
    "Berlioz, A., Friedman, A., Kaafar, M.A., Boreli, R. and Berkovsky, S., 2015, September. Applying differential privacy to matrix factorization. In Proceedings of the 9th ACM Conference on Recommender Systems (pp. 107-114). ACM."
   ]
  },
  {
   "cell_type": "markdown",
   "metadata": {},
   "source": [
    "## Expectation Maximisation for PCA\n",
    "\n",
    "We have a prior over the latent variables $p(z) = N(z|0,I)$\n",
    "\n",
    "We have a conditional distribution over the outputs $p(x|z) = N(x|Wz + \\mu, \\sigma^2 I)$\n",
    "\n",
    "For the Expectation step...\n",
    "\n",
    "1. We write $p(x,z) = p(x|z) p(z)$\n",
    "2. $ln\\;p(X,Z|\\mu, W, \\sigma^2) = \\sum_n \\left( ln\\; p(x_n | z_n) p(z_n) \\right)$ (we can do this summation because we assume each point is IID).\n",
    "3. We want to know $E[ln\\;p(X,Z | \\mu, W, \\sigma^2)] = E\\Big[\\sum_n \\left[ ln\\;p(x|z) + ln\\;p(z) \\right]\\Big]$\n",
    "4. We expand out these distributions and apply the log to them, to get a long expression, importantly the values that are missing that we need are $E[z_n]$ and $E[z_n z_n^\\top]$. We can find these from earlier work on PCA.\n",
    "\n",
    "using $M = W^\\top W + \\sigma I$\n",
    "\n",
    "we have this expression for $p(z|x)$:\n",
    "\n",
    "$p(z|x) = N(z|M^{-1} W^\\top (x-\\mu), \\sigma^2 M^{-1})$\n",
    "\n",
    "This allows us to find the values for $E[z_n]$ and $E[z_n z_n^\\top]$:\n",
    "\n",
    "$E[z_n] = M^{-1} W^\\top (x-\\mu)$\n",
    "\n",
    "$E[z_n z_n^\\top] = \\sigma^2 M^{-1} + E[z_n]E[z_n]^\\top$ (see identity proof at bottom of document)\n",
    "\n",
    "For the Maximisation step...\n",
    "\n",
    "We differentiated the expression for $E[ln\\;p(X,Z|\\mu, W, \\sigma^2)]$ wrt $W$ and $\\sigma^2$:\n",
    "\n",
    "$W_{new} = \\Big[\\sum_n (x_n - \\bar{x}) E[z_n]^\\top\\Big] \\Big[\\sum_n E[z_n z_n^\\top] \\Big]^{-1}$\n",
    "\n",
    "$\\sigma^2_{new} = ...$"
   ]
  },
  {
   "cell_type": "code",
   "execution_count": 1,
   "metadata": {
    "collapsed": false
   },
   "outputs": [],
   "source": [
    "#First set up our dataset, etc: A 3d dataset\n",
    "import numpy as np\n",
    "import matplotlib.pyplot as plt\n",
    "\n",
    "np.set_printoptions(precision=6)\n",
    "np.set_printoptions(suppress=True)\n",
    "\n",
    "Dn = 3 #number of dimensions in the observed variables.\n",
    "Mn = 2 #number of dimensions the latent variables will have (principal components)\n",
    "N = 200 #number of data points\n",
    "\n",
    "#initial values of parameters sigma^2 and the transform W (between the observed space and the latent space)\n",
    "sigsqr = 1.0 #starting value of the noise variance sigma^2\n",
    "W = np.random.randn(Dn,Mn) * .01 #starting value of the transform W\n",
    "\n",
    "#data generation\n",
    "x = np.random.randn(Dn,N)\n",
    "x[1,:] += x[0,:]*1.5 #some covariance\n",
    "x[0,:] = x[0,:] * 5.0\n",
    "x[1,:] = x[1,:] * 2.0\n",
    "x[2,:] -= x[1,:] * 4\n",
    "x = x + np.random.randn(Dn,N) * .0\n",
    "\n",
    "x = x * 1.0\n",
    "#used later for efficiency.\n",
    "zeromean_x = (x.T - np.mean(x,1)).T"
   ]
  },
  {
   "cell_type": "markdown",
   "metadata": {},
   "source": [
    "Plot of the data (showing each pair of dimensions)"
   ]
  },
  {
   "cell_type": "code",
   "execution_count": 2,
   "metadata": {
    "collapsed": false
   },
   "outputs": [],
   "source": [
    "for d1 in range(Dn):\n",
    "    for d2 in range(d1):\n",
    "        plt.figure()\n",
    "        plt.plot(x[d1,:],x[d2,:],'x')\n",
    "        #plt.xlim([-15,15])\n",
    "        #plt.ylim([-15,15])\n",
    "        plt.title('%d vs %d' % (d1+1,d2+1))"
   ]
  },
  {
   "cell_type": "markdown",
   "metadata": {},
   "source": [
    "The expectation maximisation"
   ]
  },
  {
   "cell_type": "code",
   "execution_count": 3,
   "metadata": {
    "collapsed": false
   },
   "outputs": [
    {
     "name": "stdout",
     "output_type": "stream",
     "text": [
      "[[-0.590576  4.297617]\n",
      " [-2.147801  2.216289]\n",
      " [ 8.693151 -8.818607]]\n"
     ]
    }
   ],
   "source": [
    "Ezz = []\n",
    "Ez = []\n",
    "for n in range(N):\n",
    "    Ezz.append(np.zeros([Mn,Mn]))\n",
    "    Ez.append(np.zeros(Mn)[:,None])\n",
    "\n",
    "sig_store = []\n",
    "for it in range(100):\n",
    "    #Expectation, find values of components...\n",
    "    M = np.dot(W.T,W) + sigsqr * np.eye(Mn)\n",
    "    invM = np.linalg.inv(M) #TODO Solve using linalg.solve (MORE STABLE)\n",
    "    old_Ez = Ez[:] #Use Cholesky decomp to do this inversion in a more stable way.\n",
    "\n",
    "    for n in range(N): #TODO: Vectorise\n",
    "        Ez[n] = np.dot(np.dot(invM,W.T),zeromean_x[:,n])[:,None] #MxD . Dx1 = Mx1\n",
    "        Ezz[n] = sigsqr * invM + np.dot(Ez[n],Ez[n].T)\n",
    "    #Maximisation \n",
    "    #Next We've differentiated E[ln p(X,Z|parameters)] and,\n",
    "    #setting equal to zero, we can find what the parameters equal to maximise this    \n",
    "    \n",
    "    partA = np.zeros([Dn,Mn])\n",
    "    for n in range(N):\n",
    "        partA += np.dot(zeromean_x[:,n][:,None],Ez[n].T)\n",
    "        #if n==5:\n",
    "        #    print np.dot(zeromean_x[:,n][:,None],Ez[n].T)\n",
    "        #    print np.dot(zeromean_x[:,n][:,None],np.dot(np.dot(invM,W.T),zeromean_x[:,n])[:,None].T)\n",
    "        #    print np.dot(np.dot(zeromean_x[:,n][:,None],zeromean_x[:,n][:,None].T),np.dot(W,invM.T))\n",
    "        #    print \"----\"\n",
    "\n",
    "        \n",
    "    partB = np.zeros([Mn,Mn])\n",
    "    for n in range(N):\n",
    "        partB += Ezz[n]\n",
    "    new_W = np.dot(partA, np.linalg.inv(partB)) #TODO Replace inverse\n",
    "    temp = 0\n",
    "    for n in range(N):\n",
    "        #np.linalg.norm() replace below\n",
    "        temp += np.dot(zeromean_x[:,n],zeromean_x[:,n]) - 2.0*np.dot(np.dot(Ez[n].T, new_W.T),zeromean_x[:,n])\n",
    "        temp += np.trace(np.dot(Ezz[n],np.dot(new_W.T,new_W)))\n",
    "    new_sigsqr = (1.0/(N*Dn)) * temp #changed brackets\n",
    "\n",
    "    sig_store.append(new_sigsqr)\n",
    "   \n",
    "    W = new_W.copy()\n",
    "    sigsqr = new_sigsqr\n",
    "\n",
    "print W\n",
    "import matplotlib.pyplot as plt\n",
    "%matplotlib inline"
   ]
  },
  {
   "cell_type": "code",
   "execution_count": 4,
   "metadata": {
    "collapsed": false
   },
   "outputs": [
    {
     "data": {
      "text/plain": [
       "[<matplotlib.lines.Line2D at 0x7fd79c25d990>]"
      ]
     },
     "execution_count": 4,
     "metadata": {},
     "output_type": "execute_result"
    },
    {
     "data": {
      "image/png": "[encoded data removed]",
      "text/plain": [
       "<matplotlib.figure.Figure at 0x7fd7c6fcb050>"
      ]
     },
     "metadata": {},
     "output_type": "display_data"
    }
   ],
   "source": [
    "plt.plot(np.sqrt(sig_store))"
   ]
  },
  {
   "cell_type": "markdown",
   "metadata": {},
   "source": [
    "In this plot, our predicted values (in blue x) overestimate the noise, this is because the $\\sigma^2$ is large, to help explain the variance in the other dimensions that we can't explain using our model with only one dimension in the latent variable."
   ]
  },
  {
   "cell_type": "code",
   "execution_count": 5,
   "metadata": {
    "collapsed": false
   },
   "outputs": [
    {
     "data": {
      "text/plain": [
       "[<matplotlib.lines.Line2D at 0x7fd79c2f4f10>]"
      ]
     },
     "execution_count": 5,
     "metadata": {},
     "output_type": "execute_result"
    },
    {
     "data": {
      "image/png": "[encoded data removed]",
      "text/plain": [
       "<matplotlib.figure.Figure at 0x7fd79c2f4c90>"
      ]
     },
     "metadata": {},
     "output_type": "display_data"
    }
   ],
   "source": [
    "zs = np.random.multivariate_normal(np.zeros(Mn),np.eye(Mn),100).T\n",
    "#xpred = np.dot(W,zs.T) + np.random.multivariate_normal(np.zeros(Dn),np.eye(Dn)*sigsqr,100).T\n",
    "xpred = np.dot(W,zs) + np.random.multivariate_normal(np.zeros(Dn),np.eye(Dn)*sigsqr,100).T\n",
    "\n",
    "\n",
    "plt.plot(xpred[1,:],xpred[2,:],'x')\n",
    "#plt.xlim([-10,10])\n",
    "#plt.ylim([-10,10])\n",
    "plt.plot(x[1,:],x[2,:],'+r')"
   ]
  },
  {
   "cell_type": "code",
   "execution_count": 6,
   "metadata": {
    "collapsed": false
   },
   "outputs": [
    {
     "name": "stdout",
     "output_type": "stream",
     "text": [
      "[[-0.272558 -0.232772  0.933557]\n",
      " [ 0.962089 -0.056012  0.266922]\n",
      " [-0.009842  0.970917  0.239214]]\n",
      "[[-0.590576  4.297617]\n",
      " [-2.147801  2.216289]\n",
      " [ 8.693151 -8.818607]]\n",
      "[[-0.06581  -0.239336  0.968704]\n",
      " [ 0.427313  0.220366 -0.876836]]\n"
     ]
    }
   ],
   "source": [
    "cov = np.dot(zeromean_x,zeromean_x.T)\n",
    "#cov = np.array([[2,1],[1,2]])\n",
    "u,v,w = np.linalg.svd(cov)\n",
    "print w\n",
    "print W\n",
    "normed_W = W / np.sqrt(np.sum(W**2,0))\n",
    "print normed_W.T"
   ]
  },
  {
   "cell_type": "code",
   "execution_count": 7,
   "metadata": {
    "collapsed": false
   },
   "outputs": [
    {
     "name": "stdout",
     "output_type": "stream",
     "text": [
      "[ 0.053269]\n",
      "[[  80.532708  -83.959703]\n",
      " [ -83.959703  101.149285]]\n",
      "[-1.9466    0.041428]\n",
      "[[-1.94783 ]\n",
      " [ 0.040582]]\n",
      "[[-1.94721 ]\n",
      " [ 0.041009]]\n",
      "[-1.9466    0.041428]\n"
     ]
    }
   ],
   "source": [
    "#print M\n",
    "#print np.linalg.inv(M)\n",
    "#print W\n",
    "#print zeromean_x[:,0]\n",
    "print sigsqr\n",
    "print np.dot(W.T,W)\n",
    "M = np.dot(W.T,W) + sigsqr * np.eye(Mn)\n",
    "invM = np.linalg.inv(M)\n",
    "\n",
    "print np.dot(np.dot(np.linalg.inv(M),W.T),zeromean_x[:,0])\n",
    "print old_Ez[0]\n",
    "print Ez[0]\n",
    "print np.dot(np.dot(invM,W.T),zeromean_x[:,0])"
   ]
  },
  {
   "cell_type": "code",
   "execution_count": 8,
   "metadata": {
    "collapsed": false
   },
   "outputs": [
    {
     "name": "stdout",
     "output_type": "stream",
     "text": [
      "[[-1.522377  0.928943 -0.905226]\n",
      " [-2.359487 -1.550749  0.16733 ]\n",
      " [-1.416288  1.584967  0.694267]]\n",
      "[[ 4.  2.  3.]\n",
      " [ 2.  8.  1.]\n",
      " [ 3.  1.  5.]]\n"
     ]
    }
   ],
   "source": [
    "def sqrtm(m):\n",
    "    u,l,v = np.linalg.svd(m)\n",
    "    for x in range(m.shape[0]):\n",
    "        for y in range(m.shape[1]):\n",
    "            if np.abs(m[x,y]-m[y,x])>0.001:\n",
    "                print m\n",
    "                raise Exception(\"Not diagonal\")\n",
    "    return np.dot(u,np.diag(np.sqrt(l)))\n",
    "    #return np.dot(np.dot(u,np.diag(np.sqrt(l))),np.linalg.inv(v))\n",
    "    \n",
    "a = np.array([[4,2,3],[2,8,1],[3,1,5]])\n",
    "b = sqrtm(a)\n",
    "print b\n",
    "print np.dot(b,b.T)"
   ]
  },
  {
   "cell_type": "code",
   "execution_count": 10,
   "metadata": {
    "collapsed": false
   },
   "outputs": [
    {
     "name": "stdout",
     "output_type": "stream",
     "text": [
      "648271715.641\n",
      "[[-0.06581   0.427313]\n",
      " [-0.239336  0.220366]\n",
      " [ 0.968704 -0.876836]]\n"
     ]
    }
   ],
   "source": [
    "print np.linalg.det(cov)\n",
    "U,l,w = np.linalg.svd(cov)\n",
    "L = np.diag(l)\n",
    "#print np.dot(U,sqrtm(L-sigsqr*np.eye(Mn)))\n",
    "print normed_W"
   ]
  },
  {
   "cell_type": "markdown",
   "metadata": {},
   "source": [
    "Each iteration\n",
    "..\n",
    "We have a prior over the latent variables $p(z) = N(z|0,I)$\n",
    "\n",
    "We have a conditional distribution over the outputs $p(x|z) = N(x|Wz + \\mu, \\sigma^2 I)$\n",
    "\n",
    "For the Expectation step...\n",
    "\n",
    "1. We write $p(x,z) = p(x|z) p(z)$\n",
    "2. $ln\\;p(X,Z|\\mu, W, \\sigma^2) = \\sum_n \\left( ln\\; p(x_n | z_n) p(z_n) \\right)$ (we can do this summation because we assume each point is IID).\n",
    "3. We want to know $E[ln\\;p(X,Z | \\mu, W, \\sigma^2)] = E\\Big[\\sum_n \\left[ ln\\;p(x|z) + ln\\;p(z) \\right]\\Big]$\n",
    "4. We expand out these distributions and apply the log to them, to get a long expression, importantly the values that are missing that we need are $E[z_n]$ and $E[z_n z_n^\\top]$. We can find these from earlier work on PCA.\n",
    "\n",
    "using $M = W^\\top W + \\sigma I$\n",
    "\n",
    "we have this expression for $p(z|x)$:\n",
    "\n",
    "$p(z|x) = N(z|M^{-1} W^\\top (x-\\mu), \\sigma^2 M^{-1})$\n",
    "\n",
    "This allows us to find the values for $E[z_n]$ and $E[z_n z_n^\\top]$:\n",
    "\n",
    "$E[z_n] = M^{-1} W^\\top (x-\\mu)$\n",
    "\n",
    "$E[z_n z_n^\\top] = \\sigma^2 M^{-1} + E[z_n]E[z_n]^\\top$ (see identity proof at bottom of document)\n",
    "\n",
    "For the Maximisation step...\n",
    "\n",
    "We differentiated the expression for $E[ln\\;p(X,Z|\\mu, W, \\sigma^2)]$ wrt $W$ and $\\sigma^2$:\n",
    "\n",
    "$W_{new} = \\Big[\\sum_n (x_n - \\bar{x}) E[z_n]^\\top\\Big] \\Big[\\sum_n E[z_n z_n^\\top] \\Big]^{-1}$\n",
    "\n",
    "$\\sigma^2_{new} = ...$"
   ]
  },
  {
   "cell_type": "code",
   "execution_count": 11,
   "metadata": {
    "collapsed": false
   },
   "outputs": [
    {
     "data": {
      "text/plain": [
       "array([[-1.94721 ],\n",
       "       [ 0.041009]])"
      ]
     },
     "execution_count": 11,
     "metadata": {},
     "output_type": "execute_result"
    }
   ],
   "source": [
    "Ez[0]"
   ]
  },
  {
   "cell_type": "code",
   "execution_count": 12,
   "metadata": {
    "collapsed": false
   },
   "outputs": [
    {
     "data": {
      "text/plain": [
       "array([[ 3.796505, -0.075806],\n",
       "       [-0.075806,  0.005566]])"
      ]
     },
     "execution_count": 12,
     "metadata": {},
     "output_type": "execute_result"
    }
   ],
   "source": [
    "Ezz[0]"
   ]
  },
  {
   "cell_type": "markdown",
   "metadata": {},
   "source": [
    "### Identity $E[(a+\\mu)(a+\\mu)^\\top] = cov(a) + \\mu \\mu^\\top$\n",
    "\n",
    "The final term above comes from this identity:\n",
    "\n",
    "$E[(a+\\mu)(a+\\mu)^\\top] = E[a a^\\top] + E[a \\mu^\\top] + E[\\mu a^\\top] + E[\\mu \\mu^\\top]$ \n",
    "\n",
    "We note that $E[\\mu \\mu^\\top]=\\mu \\mu^\\top$\n",
    "and\n",
    "$E[a \\mu^\\top]= E[a] \\mu ^\\top = 0$. \n",
    "\n",
    "Leaving just: $E[(a+\\mu)(a+\\mu)^\\top] = E[a a^\\top] + \\mu \\mu^\\top = cov(a) + \\mu \\mu^\\top$\n",
    "\n"
   ]
  },
  {
   "cell_type": "code",
   "execution_count": 13,
   "metadata": {
    "collapsed": false
   },
   "outputs": [
    {
     "ename": "ValueError",
     "evalue": "operands could not be broadcast together with shapes (3,2) (3,) ",
     "output_type": "error",
     "traceback": [
      "\u001b[1;31m---------------------------------------------------------------------------\u001b[0m",
      "\u001b[1;31mValueError\u001b[0m                                Traceback (most recent call last)",
      "\u001b[1;32m<ipython-input-13-65f02d561bf3>\u001b[0m in \u001b[0;36m<module>\u001b[1;34m()\u001b[0m\n\u001b[1;32m----> 1\u001b[1;33m \u001b[1;33m(\u001b[0m\u001b[0mW\u001b[0m\u001b[1;33m/\u001b[0m\u001b[0mnp\u001b[0m\u001b[1;33m.\u001b[0m\u001b[0msqrt\u001b[0m\u001b[1;33m(\u001b[0m\u001b[0mnp\u001b[0m\u001b[1;33m.\u001b[0m\u001b[0msum\u001b[0m\u001b[1;33m(\u001b[0m\u001b[0mW\u001b[0m\u001b[1;33m**\u001b[0m\u001b[1;36m2\u001b[0m\u001b[1;33m,\u001b[0m\u001b[1;36m1\u001b[0m\u001b[1;33m)\u001b[0m\u001b[1;33m)\u001b[0m\u001b[1;33m)\u001b[0m\u001b[1;33m.\u001b[0m\u001b[0mT\u001b[0m\u001b[1;33m\u001b[0m\u001b[0m\n\u001b[0m",
      "\u001b[1;31mValueError\u001b[0m: operands could not be broadcast together with shapes (3,2) (3,) "
     ]
    }
   ],
   "source": [
    "(W/np.sqrt(np.sum(W**2,1))).T"
   ]
  },
  {
   "cell_type": "code",
   "execution_count": 14,
   "metadata": {
    "collapsed": false
   },
   "outputs": [
    {
     "data": {
      "text/plain": [
       "array([[-0.590576,  4.297617],\n",
       "       [-2.147801,  2.216289],\n",
       "       [ 8.693151, -8.818607]])"
      ]
     },
     "execution_count": 14,
     "metadata": {},
     "output_type": "execute_result"
    }
   ],
   "source": [
    "W"
   ]
  },
  {
   "cell_type": "code",
   "execution_count": 15,
   "metadata": {
    "collapsed": false
   },
   "outputs": [
    {
     "name": "stderr",
     "output_type": "stream",
     "text": [
      "/home/lionfish/anaconda2/lib/python2.7/site-packages/numpy/core/fromnumeric.py:2641: VisibleDeprecationWarning: `rank` is deprecated; use the `ndim` attribute or function instead. To find the rank of a matrix see `numpy.linalg.matrix_rank`.\n",
      "  VisibleDeprecationWarning)\n"
     ]
    },
    {
     "data": {
      "text/plain": [
       "2"
      ]
     },
     "execution_count": 15,
     "metadata": {},
     "output_type": "execute_result"
    }
   ],
   "source": [
    "np.rank(W)"
   ]
  },
  {
   "cell_type": "code",
   "execution_count": 16,
   "metadata": {
    "collapsed": false
   },
   "outputs": [],
   "source": [
    "#Ez"
   ]
  },
  {
   "cell_type": "markdown",
   "metadata": {
    "collapsed": true
   },
   "source": [
    "## Online Expectation Maximisation and Differential Privacy\n",
    "\n",
    "To summarise the aims:\n",
    "\n",
    " - We want users to be able to update the estimates of $W$ and $\\sigma^2$. I'm currently using the EM algorithm, but this completely replaces the original values each 'iteration'. I'm trying to make each person a single iteration of the EM algorithm, but one could also sum over the people to find the two terms of $W$. The problem is that, to sum over people we have to apply a lot of noise (as they will be releasing their individual values during the summation).\n",
    " \n",
    " - We alternatively could use ML, and solve using gradients, rather than set the deriviative to zero.\n",
    "\n",
    "### EM and people\n",
    "\n",
    "Can I iterate through the people one at a time?\n",
    "\n",
    "Below I try to do this, but as the number of people in the sample approach one, the algorithm fails to converge. This isn't particularly surprising.. Maybe it's the $\\Big[\\sum^N_{n=1} E[z_n z_n^\\top] \\Big]^{-1}$ inverse that gets too large?\n",
    "\n",
    "I've dealt with it below by smoothing the change each iteration (2nd order kalman filter). It's a bit flakey and very slow but it does converge.\n",
    "\n",
    "This doesn't seem a good solution... "
   ]
  },
  {
   "cell_type": "code",
   "execution_count": 17,
   "metadata": {
    "collapsed": false
   },
   "outputs": [
    {
     "name": "stdout",
     "output_type": "stream",
     "text": [
      "100\n",
      "---\n",
      "[[-0.592776  4.296817]\n",
      " [-2.140661  2.195482]\n",
      " [ 8.694882 -8.824825]]\n"
     ]
    }
   ],
   "source": [
    "Ezz = []\n",
    "Ez = []\n",
    "\n",
    "\n",
    "N = 100 # zeromean_x.shape[1] #number of people in each group.\n",
    "print N\n",
    "for n in range(N):\n",
    "    Ezz.append(np.zeros([Mn,Mn]))\n",
    "    Ez.append(np.zeros(Mn)[:,None])\n",
    "\n",
    "sig_store = []\n",
    "indx = 0\n",
    "for it in range(1000): #range(200000/N):\n",
    "    x = zeromean_x[:,indx:(indx+N)]\n",
    "    indx += N\n",
    "    if (indx+N >= zeromean_x.shape[1]):\n",
    "        indx = 0\n",
    "    #x = (x.T - np.mean(x,1)).T\n",
    "    \n",
    "    M = np.dot(W.T,W) + sigsqr * np.eye(Mn)\n",
    "    invM = np.linalg.inv(M) #TODO Solve using linalg.solve (MORE STABLE)\n",
    "    old_Ez = Ez[:] #Use Cholesky decomp to do this inversion in a more stable way.\n",
    "\n",
    "    for n in range(N): #TODO: Vectorise\n",
    "        Ez[n] = np.dot(np.dot(invM,W.T),x[:,n])[:,None] #MxD . Dx1 = Mx1\n",
    "        Ezz[n] = sigsqr * invM + np.dot(Ez[n],Ez[n].T)\n",
    "    #Maximisation \n",
    "    #Next We've differentiated E[ln p(X,Z|parameters)] and,\n",
    "    #setting equal to zero, we can find what the parameters equal to maximise this    \n",
    "\n",
    "    partA = np.zeros([Dn,Mn])\n",
    "    for n in range(N):\n",
    "        partA += np.dot(x[:,n][:,None],Ez[n].T)\n",
    "       \n",
    "    partB = np.zeros([Mn,Mn])\n",
    "    for n in range(N):\n",
    "        partB += Ezz[n]\n",
    "    #print partB\n",
    "    new_W = np.dot(partA, np.linalg.inv(partB)) #TODO Replace inverse\n",
    "    temp = 0\n",
    "    for n in range(N):\n",
    "        #np.linalg.norm() replace below\n",
    "        temp += np.dot(x[:,n],x[:,n]) - 2.0*np.dot(np.dot(Ez[n].T, new_W.T),x[:,n])\n",
    "        temp += np.trace(np.dot(Ezz[n],np.dot(new_W.T,new_W)))\n",
    "    new_sigsqr = (1.0/(N*Dn)) * temp #changed brackets\n",
    "\n",
    "    sig_store.append(new_sigsqr)\n",
    "   \n",
    "    W = W*0.999 + new_W.copy() * 0.001\n",
    "    sigsqr = sigsqr*0.999 + new_sigsqr * 0.001\n",
    "\n",
    "print \"---\"\n",
    "print W\n",
    "import matplotlib.pyplot as plt\n",
    "%matplotlib inline"
   ]
  },
  {
   "cell_type": "markdown",
   "metadata": {},
   "source": [
    "### Secure Multiparty Computation\n",
    "\n",
    "We need to be able to keep the output private, but combine the responses from several people in each batch (one person doesn't seem to work well). To solve this issue, but still use batch processing:\n",
    "\n",
    " - Note first that $E[z_n]$ and $E[z_n z_n]$ can be calculated locally (once the mean and current estimates of $W$, $\\sigma^2$ are provided).\n",
    " \n",
    "We can use the locally calculated values, and add up these...\n",
    " \n",
    "Steps:\n",
    "\n",
    " 1. Find the sum of everyone's $\\mathbf{x}$s. Could use Fast Mean Finder (see below)\n",
    " 2. Find the mean (divide by N), $\\bar{x}$\n",
    " 3. Pass this and estimates of W and $\\sigma^2$ to all users.\n",
    " 4. Let them calculate $E[z_n]$ and $E[z_n z_n^\\top]$ locally. (we could pass $M$ to save everyone needing to do computation locally).\n",
    " 5. Locally find $p_1 = (x_n - \\bar{x}) E[z_n]^{\\top}$.\n",
    " 6. Locally find $p_2 = |x_n - x|^2 - 2E[z_n]^\\top W^\\top_{new} (x_n - \\bar{x}) + Tr(E[z_n z_n^\\top] W^\\top_{new} W_{new})$\n",
    " 7. For $E[z_n]$, $E[z_n z_n^\\top]$, $p_1$ and $p_2$ add sufficient noise to hide $x$ when added, maybe using the Fast Mean Finder (below).\n",
    " 8. We now need to add up all the $p_1$s, $p_2$s and all the $E[z_n z_n^\\top]$.\n",
    " 9. We can now find $W_{new}$ and $\\sigma^2_{new}$.\n",
    " \n",
    "The summations take the time, and we can choose to balance noise and accuracy using the 'fast mean finder' below.\n",
    "\n",
    "We can also batch the users together and run the EM algorithm on a smaller number of people each time. I'm not sure if there's any advantage in this."
   ]
  },
  {
   "cell_type": "markdown",
   "metadata": {},
   "source": [
    "We also need to know the sensitivity of the output of, $\\sum{x_n E[z_n]^\\top} \\Big(E[z_n z_n^\\top]\\Big)^{-1}$\n",
    "\n",
    "We have to put bounds on $x$ and $z$. For now these will be arbitrary $x_{max}$ and $z_{max}$.\n",
    "\n",
    "The best way I can see to add DP noise to the above is to treat the two summations seperately, with the first, we can add $x_{max} . z_{max}$ proportional noise to the sum. \n",
    "\n"
   ]
  },
  {
   "cell_type": "code",
   "execution_count": 19,
   "metadata": {
    "collapsed": false
   },
   "outputs": [
    {
     "name": "stdout",
     "output_type": "stream",
     "text": [
      "[[  4.164204]\n",
      " [  3.201385]\n",
      " [-12.8166  ]]\n"
     ]
    },
    {
     "data": {
      "text/plain": [
       "[<matplotlib.lines.Line2D at 0x7fd79c3b9310>]"
      ]
     },
     "execution_count": 19,
     "metadata": {},
     "output_type": "execute_result"
    },
    {
     "data": {
      "image/png": "[encoded data removed]",
      "text/plain": [
       "<matplotlib.figure.Figure at 0x7fd79c0781d0>"
      ]
     },
     "metadata": {},
     "output_type": "display_data"
    }
   ],
   "source": [
    "#copied from above...\n",
    "import numpy as np\n",
    "import matplotlib.pyplot as plt\n",
    "\n",
    "Dn = 3 #number of dimensions in the observed variables.\n",
    "Mn = 1 #number of dimensions the latent variables will have (principal components)\n",
    "N = 200 #number of data points\n",
    "\n",
    "\n",
    "def generate_data(Dn,N):\n",
    "    x = np.random.randn(Dn,N)\n",
    "    x[1,:] += x[0,:]*1.5 #some covariance\n",
    "    x[0,:] = x[0,:] * 5.0\n",
    "    x[1,:] = x[1,:] * 2.0\n",
    "    x[2,:] -= x[1,:] * 4\n",
    "    return x + np.random.randn(Dn,N) * .0\n",
    "\n",
    "x = generate_data(Dn,N)\n",
    "zeromean_x = (x.T - np.mean(x,1)).T\n",
    "\n",
    "def run_normal_EM(x):\n",
    "    #initial values of parameters sigma^2 and the transform W (between the observed space and the latent space)\n",
    "    sigsqr = 1.0 #starting value of the noise variance sigma^2\n",
    "    W = np.random.randn(Dn,Mn) * .01 #starting value of the transform W\n",
    "\n",
    "    Ezz = []\n",
    "    Ez = []\n",
    "    for n in range(N):\n",
    "        Ezz.append(np.zeros([Mn,Mn]))\n",
    "        Ez.append(np.zeros(Mn)[:,None])\n",
    "\n",
    "    expect_list = []\n",
    "    for it in range(30):\n",
    "        negloglike = 0\n",
    "        for n in range(N):\n",
    "            #obviously can be more efficient (i.e. moving terms that don't depend on n out, but this is copied verbatim from the book)\n",
    "            negloglike += (Dn/2.0) * np.log(2*np.pi*sigsqr)\n",
    "            negloglike += .5 * np.trace(Ezz[n])\n",
    "            negloglike += (1.0/(2.0*sigsqr))*np.dot(zeromean_x[:,n],zeromean_x[:,n])\n",
    "            negloglike -= (1.0/sigsqr) * np.dot(np.dot(Ez[n], W.T),zeromean_x[:,n])\n",
    "            negloglike += (1.0/(2.0*sigsqr)) * np.trace(Ezz[n],np.dot(W.T,W)) \n",
    "        expect_list.append(-negloglike)\n",
    "\n",
    "        #Expectation, find values of components...\n",
    "        M = np.dot(W.T,W) + sigsqr * np.eye(Mn)\n",
    "        invM = np.linalg.inv(M) #TODO Solve using linalg.solve (MORE STABLE)\n",
    "        old_Ez = Ez[:] #Use Cholesky decomp to do this inversion in a more stable way.\n",
    "\n",
    "        for n in range(N): #TODO: Vectorise\n",
    "            Ez[n] = np.dot(np.dot(invM,W.T),zeromean_x[:,n])[:,None] #MxD . Dx1 = Mx1\n",
    "            Ezz[n] = sigsqr * invM + np.dot(Ez[n],Ez[n].T)\n",
    "        #Maximisation \n",
    "        #Next We've differentiated E[ln p(X,Z|parameters)] and,\n",
    "        #setting equal to zero, we can find what the parameters equal to maximise this    \n",
    "\n",
    "        partA = np.zeros([Dn,Mn])\n",
    "        for n in range(N):\n",
    "            partA += np.dot(zeromean_x[:,n][:,None],Ez[n].T)\n",
    "            #if n==5:\n",
    "            #    print np.dot(zeromean_x[:,n][:,None],Ez[n].T)\n",
    "            #    print np.dot(zeromean_x[:,n][:,None],np.dot(np.dot(invM,W.T),zeromean_x[:,n])[:,None].T)\n",
    "            #    print np.dot(np.dot(zeromean_x[:,n][:,None],zeromean_x[:,n][:,None].T),np.dot(W,invM.T))\n",
    "            #    print \"----\"\n",
    "\n",
    "\n",
    "        partB = np.zeros([Mn,Mn])\n",
    "        for n in range(N):\n",
    "            partB += Ezz[n]\n",
    "        new_W = np.dot(partA, np.linalg.inv(partB)) #TODO Replace inverse\n",
    "        temp = 0\n",
    "        for n in range(N):\n",
    "            #np.linalg.norm() replace below\n",
    "            temp += np.dot(zeromean_x[:,n],zeromean_x[:,n]) - 2.0*np.dot(np.dot(Ez[n].T, new_W.T),zeromean_x[:,n])\n",
    "            temp += np.trace(np.dot(Ezz[n],np.dot(new_W.T,new_W)))\n",
    "        new_sigsqr = (1.0/(N*Dn)) * temp #changed brackets\n",
    "\n",
    "        W = new_W.copy()\n",
    "        sigsqr = new_sigsqr\n",
    "\n",
    "    return expect_list, W, sigsqr\n",
    "\n",
    "def run_DP_EM(x):\n",
    "    #initial values of parameters sigma^2 and the transform W (between the observed space and the latent space)\n",
    "    sigsqr = 1.0 #starting value of the noise variance sigma^2\n",
    "    W = np.random.randn(Dn,Mn) * .01 #starting value of the transform W\n",
    "\n",
    "    Ezz = []\n",
    "    Ez = []\n",
    "    for n in range(N):\n",
    "        Ezz.append(np.zeros([Mn,Mn]))\n",
    "        Ez.append(np.zeros(Mn)[:,None])\n",
    "\n",
    "    expect_list = []\n",
    "    for it in range(30):\n",
    "        negloglike = 0\n",
    "        for n in range(N):\n",
    "            #obviously can be more efficient (i.e. moving terms that don't depend on n out, but this is copied verbatim from the book)\n",
    "            negloglike += (Dn/2.0) * np.log(2*np.pi*sigsqr)\n",
    "            negloglike += .5 * np.trace(Ezz[n])\n",
    "            negloglike += (1.0/(2.0*sigsqr))*np.dot(zeromean_x[:,n],zeromean_x[:,n])\n",
    "            negloglike -= (1.0/sigsqr) * np.dot(np.dot(Ez[n], W.T),zeromean_x[:,n])\n",
    "            negloglike += (1.0/(2.0*sigsqr)) * np.trace(Ezz[n],np.dot(W.T,W)) \n",
    "        expect_list.append(-negloglike)\n",
    "\n",
    "        #Expectation, find values of components...\n",
    "        M = np.dot(W.T,W) + sigsqr * np.eye(Mn)\n",
    "        invM = np.linalg.inv(M) #TODO Solve using linalg.solve (MORE STABLE)\n",
    "        old_Ez = Ez[:] #Use Cholesky decomp to do this inversion in a more stable way.\n",
    "\n",
    "        for n in range(N): #TODO: Vectorise\n",
    "            Ez[n] = np.dot(np.dot(invM,W.T),zeromean_x[:,n])[:,None] #MxD . Dx1 = Mx1\n",
    "            Ezz[n] = sigsqr * invM + np.dot(Ez[n],Ez[n].T)\n",
    "        #Maximisation \n",
    "        #Next We've differentiated E[ln p(X,Z|parameters)] and,\n",
    "        #setting equal to zero, we can find what the parameters equal to maximise this    \n",
    "\n",
    "        partA = np.zeros([Dn,Mn])\n",
    "        for n in range(N):\n",
    "            partA += np.dot(zeromean_x[:,n][:,None],Ez[n].T)\n",
    "            #if n==5:\n",
    "            #    print np.dot(zeromean_x[:,n][:,None],Ez[n].T)\n",
    "            #    print np.dot(zeromean_x[:,n][:,None],np.dot(np.dot(invM,W.T),zeromean_x[:,n])[:,None].T)\n",
    "            #    print np.dot(np.dot(zeromean_x[:,n][:,None],zeromean_x[:,n][:,None].T),np.dot(W,invM.T))\n",
    "            #    print \"----\"\n",
    "\n",
    "\n",
    "        partB = np.zeros([Mn,Mn])\n",
    "        for n in range(N):\n",
    "            partB += Ezz[n]\n",
    "        new_W = np.dot(partA, np.linalg.inv(partB)) #TODO Replace inverse\n",
    "        temp = 0\n",
    "        for n in range(N):\n",
    "            #np.linalg.norm() replace below\n",
    "            temp += np.dot(zeromean_x[:,n],zeromean_x[:,n]) - 2.0*np.dot(np.dot(Ez[n].T, new_W.T),zeromean_x[:,n])\n",
    "            temp += np.trace(np.dot(Ezz[n],np.dot(new_W.T,new_W)))\n",
    "        new_sigsqr = (1.0/(N*Dn)) * temp #changed brackets\n",
    "\n",
    "        W = new_W.copy()\n",
    "        sigsqr = new_sigsqr\n",
    "\n",
    "    return expect_list, W, sigsqr\n",
    "\n",
    "expect_list_normal, W, sigsqr=run_normal_EM(x)\n",
    "expect_list_dp, W, sigsqr=run_DP_EM(x)\n",
    "\n",
    "print W\n",
    "import matplotlib.pyplot as plt\n",
    "%matplotlib inline\n",
    "\n",
    "plt.plot(expect_list_normal,'.')"
   ]
  },
  {
   "cell_type": "markdown",
   "metadata": {},
   "source": [
    "## Fast Mean Finder\n",
    "\n",
    "Thinking about how Secure Multiparty computation (https://en.wikipedia.org/wiki/Secure_multi-party_computation) does adding up, it takes O(N) time and is done by person 0 adding their value to a random value r, passing this sum $s_1$ to person 1, who adds their value to this and passing $s_2$, etc. To also make this differentially private, people need to add noise proportional to the domain of their data, divided by N: $S/N$. At the end of the loop the noise will be of scale $S$\n",
    "\n",
    "I worry how long all this takes, including finding the mean: It takes O(N) time to make it work for N people...\n",
    "\n",
    "Instead we could have $\\sqrt{N}$ loops, each with $\\sqrt{N}$ people in each. We add up the output of all the loops.\n",
    "\n",
    "So in each loop, each person adds $S/\\sqrt{N}$, so the amount of noise at the end of each loop is $S\\sqrt{N}$. So we've got $\\sqrt{N}$ more noise than before, but the time to complete the algorithm takes only $O(\\sqrt{N})$ time.\n",
    "\n",
    "Other choices of how the loops and noise are weighted can be chosen, depending on if time or accuracy is most important."
   ]
  },
  {
   "cell_type": "markdown",
   "metadata": {},
   "source": [
    "## Things to find\n",
    "\n",
    " - Emperically how long does it take to converge with the addition of DP?\n",
    " - What constraints or bounds can we put on this convegence?\n",
    " - Could we combine the numbers from multiple runs of the EM algorithm...?\n",
    " \n",
    "To deal with:\n",
    "\n",
    " - The outputs aren't both scalar; $W$ is a matrix... I've not seen how to deal with matrix outputs.\n",
    " \n",
    "I have seen how to handle vector valued outputs:\n",
    "\n",
    "http://ergodicity.net/2013/03/21/generating-vector-valued-noise-for-differential-privacy/\n",
    "\n",
    " - I'm not clear why this uses the L2 norm? In http://www.stat.cmu.edu/~arinaldo/papers/hall13a.pdf the author states: \"In the case of vector valued output the sensitivity is typically measured in the Euclidean norm or the l1-norm\". Which?!\n",
    " \n",
    "### So can we apply this to matrix valued outputs?\n",
    "\n",
    "I assume we can, if we assume that all the columns can just be stacked, for the purposes of privacy : Wrong.\n",
    "\n",
    "Use a matrix norm (e.g. spectral norm)?\n",
    "\n",
    "Our problem now is knowing what the sensitivity of the $E[z_n]$ vector elements is.\n",
    "\n",
    "Just comparing to its prior:"
   ]
  },
  {
   "cell_type": "code",
   "execution_count": 20,
   "metadata": {
    "collapsed": false
   },
   "outputs": [
    {
     "data": {
      "text/plain": [
       "[<matplotlib.lines.Line2D at 0x7fd79c373590>]"
      ]
     },
     "execution_count": 20,
     "metadata": {},
     "output_type": "execute_result"
    },
    {
     "data": {
      "image/png": "[encoded data removed]",
      "text/plain": [
       "<matplotlib.figure.Figure at 0x7fd79c03b050>"
      ]
     },
     "metadata": {},
     "output_type": "display_data"
    }
   ],
   "source": [
    "# getting the values of E[z] from the earlier calculation\n",
    "\n",
    "zs = [v[0][0] for v in Ez]\n",
    "#zs = np.random.randn(1000)\n",
    "plt.hist(zs,bins=21,range=[-10,10]);\n",
    "\n",
    "#compare to its prior\n",
    "import scipy.stats as stats\n",
    "z = np.arange(-10,10,0.1)\n",
    "plt.plot(z,stats.norm.pdf(z,0,1)*len(zs))"
   ]
  },
  {
   "cell_type": "markdown",
   "metadata": {},
   "source": [
    "The distribution is more spread than its prior. WRONG: This just indicates insufficient convergence."
   ]
  },
  {
   "cell_type": "code",
   "execution_count": 21,
   "metadata": {
    "collapsed": false
   },
   "outputs": [
    {
     "name": "stdout",
     "output_type": "stream",
     "text": [
      "1.02384348337\n"
     ]
    },
    {
     "data": {
      "image/png": "[encoded data removed]",
      "text/plain": [
       "<matplotlib.figure.Figure at 0x7fd79c078b10>"
      ]
     },
     "metadata": {},
     "output_type": "display_data"
    }
   ],
   "source": [
    "# getting the values of E[z] from the earlier calculation\n",
    "\n",
    "zs = [v[0][0] for v in Ez]\n",
    "#zs = np.random.randn(1000)\n",
    "plt.hist(zs,bins=21,range=[-10,10]);\n",
    "\n",
    "#compare to its prior\n",
    "import scipy.stats as stats\n",
    "z = np.arange(-10,10,0.1)\n",
    "std = np.sqrt(np.var(zs))\n",
    "plt.plot(z,stats.norm.pdf(z,0,std)*len(zs))\n",
    "print std"
   ]
  },
  {
   "cell_type": "markdown",
   "metadata": {},
   "source": [
    "Why is it still about the same variance as its prior? See \"Convergence of p(z|x)\"."
   ]
  },
  {
   "cell_type": "markdown",
   "metadata": {},
   "source": [
    "We can use this result (but need to prove it). We can say that $E[z_n]$ has a sensitivity of 10, and a probability of exceeding this of...\n"
   ]
  },
  {
   "cell_type": "code",
   "execution_count": 22,
   "metadata": {
    "collapsed": false
   },
   "outputs": [
    {
     "data": {
      "text/plain": [
       "5.7330314375838655e-07"
      ]
     },
     "execution_count": 22,
     "metadata": {},
     "output_type": "execute_result"
    }
   ],
   "source": [
    "2*stats.norm.cdf(-5,0,1)"
   ]
  },
  {
   "cell_type": "markdown",
   "metadata": {},
   "source": [
    "Using the above constraints we can say that the sensitivity of any element of $\\mathbf{x} E[z_n]^\\top$, is the sensitivity of $x_{ni}$ (which we'll say is from -1 to 1, so therefore 2) times the sensitivity of $E[z_{n}]_i$ which we've stated above is 10. So the sensitivity is 20. We'll call this $\\Delta$ for now. Or $\\Delta_{Ez}$ times $\\Delta_x$.\n",
    "\n",
    "# What matrix norm should I use for differential privacy?\n",
    "\n",
    "If we assume we provide all the elements in $W$, what norm should we use to calculate the sensitivity? \n",
    "\n",
    "- **The spectral norm?** we should find the spectral-norm: The largest singular value of A. I.e. the square root of the largest eigenvalue of $W^\\top W$:\n",
    "\n",
    "$||W||_2 = \\sqrt{\\lambda_{max}(W^\\top W)}$\n",
    "\n",
    "- Or as we're releasing the whole of $W$, I feel that maybe we should use the **l1-norm**? Biggest column sum.\n",
    "\n",
    "- There's the $\\infty$-norm. Biggest row-sum.\n",
    "\n",
    "- Quite common is the l2,1-(entrywise)-norm: $\\sqrt{\\sum_{all}{a_{ij}^2}}$\n",
    "\n",
    "Although the l2 (spectal) norm is quite difficult to estimate given the arbitrary values the vectors $\\mathbf{x}$ and $E[z_n]$ might hold. There is an upper bound on them of: $||M||_2 \\leq \\sqrt{\\sum^D_i \\sum^M_j |m_{ij}|^2}$\n",
    "\n",
    "### Applying to $\\sum{x_n E[z_n]^\\top}$\n",
    "\n",
    "First we note that the summation we want is over $(\\mathbf{x} E[z_n]^\\top)$, each element of this matrix is of the form $x_i E[z_n]_j$. \n",
    "\n",
    "Given the 'absolute' operator, the sensitivity of each element $|m_ij|$ is bound between zero, and the product of the maximum of $x$ and $E[z]$, ($x_{max}=1$ and $z_{max}$ respectively) the product of which I'll call $\\Delta$.\n",
    "\n",
    "So the upper bound on $||M||_2$ is:\n",
    "\n",
    "$$||M||_2 \\leq \\sqrt{DM\\Delta^2}\n",
    "\n",
    "For 10 input dimensions (D) and 5 latent dimensions (M) with $z_{max}$ set to 5 (as mentioned above) we have an L2 sensitivity on the product of $x$ and $E[z]$ of: $\\sqrt{10 \\times 5 \\times 5^2} \\approx 35.4$.\n",
    "\n",
    "If there are 100 samples, each one will need Laplae(0.354) noise added to each ???\n",
    "\n",
    "***It might be better to apply DP to each of the vectors before doing the computation***\n",
    "http://ergodicity.net/2013/03/21/generating-vector-valued-noise-for-differential-privacy/\n",
    "\n",
    "###"
   ]
  },
  {
   "cell_type": "markdown",
   "metadata": {
    "collapsed": true
   },
   "source": [
    "# Overview of new plan\n",
    "\n",
    "Ideas:\n",
    "\n",
    " - Apply DP to the inputs of PPCA and **introduce new noise term to PPCA**\n",
    "     - Question: Isn't the current noise term sufficient? (i.e. can we really describe more by adding a new term?)\n",
    "         - What about "
   ]
  }
 ],
 "metadata": {
  "kernelspec": {
   "display_name": "Python 2",
   "language": "python",
   "name": "python2"
  },
  "language_info": {
   "codemirror_mode": {
    "name": "ipython",
    "version": 2
   },
   "file_extension": ".py",
   "mimetype": "text/x-python",
   "name": "python",
   "nbconvert_exporter": "python",
   "pygments_lexer": "ipython2",
   "version": "2.7.11"
  }
 },
 "nbformat": 4,
 "nbformat_minor": 0
}
